{
 "cells": [
  {
   "cell_type": "markdown",
   "metadata": {},
   "source": [
    "### Step 1. Open the data file and have a look at the general information. "
   ]
  },
  {
   "cell_type": "code",
   "execution_count": 17,
   "metadata": {},
   "outputs": [
    {
     "name": "stdout",
     "output_type": "stream",
     "text": [
      "   children  days_employed  dob_years            education  education_id  \\\n",
      "0         1   -8437.673028         42       masters degree             0   \n",
      "1         1   -4024.803754         36  secondary education             1   \n",
      "2         0   -5623.422610         33  Secondary Education             1   \n",
      "3         3   -4124.747207         32  secondary education             1   \n",
      "4         0  340266.072047         53  secondary education             1   \n",
      "5         0    -926.185831         27       masters degree             0   \n",
      "6         0   -2879.202052         43       masters degree             0   \n",
      "7         0    -152.779569         50  SECONDARY EDUCATION             1   \n",
      "8         2   -6929.865299         35       MASTERS DEGREE             0   \n",
      "9         0   -2188.756445         41  secondary education             1   \n",
      "\n",
      "       family_status  family_status_id gender income_type  debt  \\\n",
      "0            married                 0      F    employee     0   \n",
      "1            married                 0      F    employee     0   \n",
      "2            married                 0      M    employee     0   \n",
      "3            married                 0      M    employee     0   \n",
      "4  civil partnership                 1      F     retiree     0   \n",
      "5  civil partnership                 1      M     partner     0   \n",
      "6            married                 0      F     partner     0   \n",
      "7            married                 0      M    employee     0   \n",
      "8  civil partnership                 1      F    employee     0   \n",
      "9            married                 0      M    employee     0   \n",
      "\n",
      "    total_income                              purpose  \n",
      "0  253875.639453                purchase of the house  \n",
      "1  112080.014102                         car purchase  \n",
      "2  145885.952297                purchase of the house  \n",
      "3  267628.550329              supplementary education  \n",
      "4  158616.077870                    to have a wedding  \n",
      "5  255763.565419                purchase of the house  \n",
      "6  240525.971920                 housing transactions  \n",
      "7  135823.934197                            education  \n",
      "8   95856.832424                     having a wedding  \n",
      "9  144425.938277  purchase of the house for my family  \n",
      "<class 'pandas.core.frame.DataFrame'>\n",
      "RangeIndex: 21525 entries, 0 to 21524\n",
      "Data columns (total 12 columns):\n",
      "children            21525 non-null int64\n",
      "days_employed       19351 non-null float64\n",
      "dob_years           21525 non-null int64\n",
      "education           21525 non-null object\n",
      "education_id        21525 non-null int64\n",
      "family_status       21525 non-null object\n",
      "family_status_id    21525 non-null int64\n",
      "gender              21525 non-null object\n",
      "income_type         21525 non-null object\n",
      "debt                21525 non-null int64\n",
      "total_income        19351 non-null float64\n",
      "purpose             21525 non-null object\n",
      "dtypes: float64(2), int64(5), object(5)\n",
      "memory usage: 2.0+ MB\n",
      "None\n"
     ]
    }
   ],
   "source": [
    "import pandas as pd\n",
    "credit_scoring = pd.read_csv('/datasets/credit_scoring_eng.csv')\n",
    "print(credit_scoring.head(10))\n",
    "print(credit_scoring.info())"
   ]
  },
  {
   "cell_type": "markdown",
   "metadata": {},
   "source": [
    "### Conclusion"
   ]
  },
  {
   "cell_type": "markdown",
   "metadata": {},
   "source": [
    "The data needs to be process in order to work with. Capslocks, duplicates, information that is not helpful, and more."
   ]
  },
  {
   "cell_type": "markdown",
   "metadata": {},
   "source": [
    "### Step 2. Data preprocessing"
   ]
  },
  {
   "cell_type": "markdown",
   "metadata": {},
   "source": [
    "### Processing missing values"
   ]
  },
  {
   "cell_type": "code",
   "execution_count": 10,
   "metadata": {
    "scrolled": false
   },
   "outputs": [
    {
     "name": "stdout",
     "output_type": "stream",
     "text": [
      "-986.927316     1\n",
      "-7026.359174    1\n",
      "-4236.274243    1\n",
      "-6620.396473    1\n",
      "-1238.560080    1\n",
      "               ..\n",
      "-2849.351119    1\n",
      "-5619.328204    1\n",
      "-448.829898     1\n",
      "-1687.038672    1\n",
      "-582.538413     1\n",
      "Name: days_employed, Length: 19351, dtype: int64\n"
     ]
    }
   ],
   "source": [
    "# print(credit_scoring['children'].unique())\n",
    "# print(credit_scoring['days_employed'].unique())\n",
    "# print(credit_scoring['dob_years'].unique())\n",
    "# print(credit_scoring['education'].unique())\n",
    "# print(credit_scoring['education_id'].unique())\n",
    "# print(credit_scoring['family_status'].unique())\n",
    "# print(credit_scoring['family_status_id'].unique())\n",
    "# print(credit_scoring['gender'].unique())\n",
    "# print(credit_scoring['income_type'].unique())\n",
    "# print(credit_scoring['debt'].unique())\n",
    "# print(credit_scoring['total_income'].unique())\n",
    "# print(credit_scoring['purpose'].unique())\n",
    "# print(credit_scoring['gender'].value_counts())\n",
    "# print(credit_scoring['children'].value_counts())\n",
    "# age_data = credit_scoring[credit_scoring['dob_years']>0]\n",
    "# age_data_avg = age_data['dob_years'].mean()\n",
    "# print(age_data_avg)\n",
    "# child_data = credit_scoring[credit_scoring['children']>=0]\n",
    "# child_data = child_data[child_data['children']<6]\n",
    "# child_data_avg = child_data['children'].mean()\n",
    "# print(child_data_avg)\n",
    "# #looking for nulls\n",
    "# print('children',credit_scoring[credit_scoring['children'].isnull()].count())\n",
    "# print('days_employed',credit_scoring[credit_scoring['days_employed'].isnull()].count())\n",
    "# print('dob_years',credit_scoring[credit_scoring['dob_years'].isnull()].count())\n",
    "# print('education',credit_scoring[credit_scoring['education'].isnull()].count())\n",
    "# print('education_id',credit_scoring[credit_scoring['education_id'].isnull()].count())\n",
    "# print('family_status',credit_scoring[credit_scoring['family_status'].isnull()].count())\n",
    "# print('family_status_id',credit_scoring[credit_scoring['family_status_id'].isnull()].count())\n",
    "# print('gender',credit_scoring[credit_scoring['gender'].isnull()].count())\n",
    "# print('income_type',credit_scoring[credit_scoring['income_type'].isnull()].count())\n",
    "# print('debt',credit_scoring[credit_scoring['debt'].isnull()].count())\n",
    "# print('total_income',credit_scoring[credit_scoring['total_income'].isnull()].count())\n",
    "# print('purpose',credit_scoring[credit_scoring['purpose'].isnull()].count())\n",
    "print(credit_scoring['days_employed'].value_counts())\n"
   ]
  },
  {
   "cell_type": "markdown",
   "metadata": {},
   "source": [
    "### Conclusion"
   ]
  },
  {
   "cell_type": "markdown",
   "metadata": {},
   "source": [
    "No Nan or None values seen so far.\n",
    "The age and the children has some incorrect/impossible numbers. We will replace them with plus, or with the average of kids, or even delete those rows.\n",
    "Days employee are in minus and as floats, we will turn to int.\n",
    "Someones age is 0, will give him the average age.\n",
    "The gender has somebody not decided.. we will change him/her to the biggest group (female).\n",
    "Is difficult to see all the incomes and days employed, so we will make sure that if there is a zero, a null or a minus we will change them.\n",
    "Age average 43.\n",
    "The columns that have Nan values are: 'total_income' and 'days_employed'.\n"
   ]
  },
  {
   "cell_type": "markdown",
   "metadata": {},
   "source": [
    "### Data type replacement"
   ]
  },
  {
   "cell_type": "code",
   "execution_count": 21,
   "metadata": {},
   "outputs": [
    {
     "name": "stdout",
     "output_type": "stream",
     "text": [
      "[8437 4024 5623 ... 8799  960 9929]\n",
      "[8437 4024 5623 ... 8799  960 9929]\n",
      "[8437 4024 5623 ... 8799  960 9929]\n",
      "<class 'pandas.core.frame.DataFrame'>\n",
      "Int64Index: 21395 entries, 0 to 21524\n",
      "Data columns (total 12 columns):\n",
      "children            21395 non-null int64\n",
      "days_employed       21395 non-null int64\n",
      "dob_years           21395 non-null int64\n",
      "education           21395 non-null object\n",
      "education_id        21395 non-null int64\n",
      "family_status       21395 non-null object\n",
      "family_status_id    21395 non-null int64\n",
      "gender              21395 non-null object\n",
      "income_type         21395 non-null object\n",
      "debt                21395 non-null int64\n",
      "total_income        21395 non-null float64\n",
      "purpose             21395 non-null object\n",
      "dtypes: float64(1), int64(6), object(5)\n",
      "memory usage: 2.1+ MB\n",
      "None\n"
     ]
    }
   ],
   "source": [
    "credit_scoring.loc[credit_scoring['gender'] == 'XNA', 'gender'] = 'F'\n",
    "credit_scoring.loc[credit_scoring['children'] == -1, 'children'] = 1\n",
    "credit_scoring.loc[credit_scoring['dob_years'] == 0, 'dob_years'] = 43\n",
    "credit_scoring.drop(credit_scoring[credit_scoring['children'] == 20 ].index , inplace=True)\n",
    "credit_scoring.loc[credit_scoring['income_type'] == 'unempoyed', 'income_type'] = 'unemployed'\n",
    "\n",
    "def replacement_days (row):\n",
    "    days_employed = row['days_employed']\n",
    "    years_old = row['dob_years']\n",
    "    days_employed=abs(days_employed)\n",
    "    years_employed = days_employed/365\n",
    "    if years_employed > years_old:\n",
    "        years_employed = years_old-18\n",
    "        days_employed = years_employed*365\n",
    "    return int(days_employed)\n",
    "    \n",
    "\n",
    "credit_scoring['days_employed'] = credit_scoring['days_employed'].fillna(0.0)\n",
    "credit_scoring['days_employed'] = credit_scoring.apply(replacement_days, axis=1)\n",
    "credit_scoring['total_income'] = credit_scoring['total_income'].fillna(0.0)\n",
    "print(credit_scoring['days_employed'].unique())\n",
    "credit_scoring['days_employed'] = credit_scoring['days_employed'].fillna(0.0)\n",
    "print(credit_scoring['days_employed'].unique())\n",
    "print(credit_scoring['days_employed'].unique())\n",
    "\n",
    "# print(credit_scoring['children'].unique())\n",
    "# print(credit_scoring['dob_years'].unique())\n",
    "# print(credit_scoring['children'].unique())\n",
    "# print(credit_scoring['total_income'].unique())\n",
    "# print(credit_scoring['days_employed'].unique())\n",
    "# print(credit_scoring['income_type'].unique())\n"
   ]
  },
  {
   "cell_type": "markdown",
   "metadata": {},
   "source": [
    "### Conclusion"
   ]
  },
  {
   "cell_type": "markdown",
   "metadata": {},
   "source": [
    "For children column we trate \"-1\" as 1, for \"20\" we dropped de rows.\n",
    "The days we remained as float, so we turn it to plus and integers. There are impossible values like working 110 years.\n",
    "The gender was changed to F where it appear as \"XNA\"."
   ]
  },
  {
   "cell_type": "markdown",
   "metadata": {},
   "source": [
    "### Processing duplicates"
   ]
  },
  {
   "cell_type": "code",
   "execution_count": 22,
   "metadata": {},
   "outputs": [
    {
     "name": "stdout",
     "output_type": "stream",
     "text": [
      "       children  days_employed  dob_years            education  education_id  \\\n",
      "21515         1            467         28  secondary education             1   \n",
      "21516         0            914         42       masters degree             3   \n",
      "21517         0            404         42       masters degree             3   \n",
      "21518         0          14965         59  secondary education             1   \n",
      "21519         1           2351         37      academic degree             4   \n",
      "21520         1           4529         43  secondary education             1   \n",
      "21521         0          17885         67  secondary education             1   \n",
      "21522         1           2113         38  secondary education             1   \n",
      "21523         3           3112         38  secondary education             1   \n",
      "21524         2           1984         40  secondary education             1   \n",
      "\n",
      "           family_status  family_status_id gender income_type  debt  \\\n",
      "21515            married                 0      F    employee     1   \n",
      "21516            married                 0      F     partner     0   \n",
      "21517  civil partnership                 1      F     partner     0   \n",
      "21518            married                 0      F     retiree     0   \n",
      "21519           divorced                 3      M    employee     0   \n",
      "21520  civil partnership                 1      F     partner     0   \n",
      "21521            married                 0      F     retiree     0   \n",
      "21522  civil partnership                 1      M    employee     1   \n",
      "21523            married                 0      M    employee     1   \n",
      "21524            married                 0      F    employee     0   \n",
      "\n",
      "        total_income                     purpose  \n",
      "21515  109486.327999          to become educated  \n",
      "21516  322807.776603    purchase of my own house  \n",
      "21517  178059.553491           buying my own car  \n",
      "21518  153864.650328           purchase of a car  \n",
      "21519  115949.039788  buy commercial real estate  \n",
      "21520  224791.862382        housing transactions  \n",
      "21521  155999.806512           purchase of a car  \n",
      "21522   89672.561153                    property  \n",
      "21523  244093.050500           buying my own car  \n",
      "21524   82047.418899                to buy a car  \n",
      "<class 'pandas.core.frame.DataFrame'>\n",
      "Int64Index: 21378 entries, 0 to 21524\n",
      "Data columns (total 12 columns):\n",
      "children            21378 non-null int64\n",
      "days_employed       21378 non-null int64\n",
      "dob_years           21378 non-null int64\n",
      "education           21378 non-null object\n",
      "education_id        21378 non-null int64\n",
      "family_status       21378 non-null object\n",
      "family_status_id    21378 non-null int64\n",
      "gender              21378 non-null object\n",
      "income_type         21378 non-null object\n",
      "debt                21378 non-null int64\n",
      "total_income        21378 non-null float64\n",
      "purpose             21378 non-null object\n",
      "dtypes: float64(1), int64(6), object(5)\n",
      "memory usage: 2.1+ MB\n",
      "None\n"
     ]
    }
   ],
   "source": [
    "credit_scoring['education'] = credit_scoring['education'].str.lower()\n",
    "def replacement_education (row):\n",
    "    education = row['education']\n",
    "    if education == 'academic degree':\n",
    "        return 4\n",
    "    elif education == 'masters degree':\n",
    "        return 3\n",
    "    elif education == 'bachelor degree':\n",
    "        return 2\n",
    "    elif education == 'secondary education':\n",
    "        return 1\n",
    "    elif education == 'primary education':\n",
    "        return 0\n",
    "\n",
    "def replacement_family_status (row):\n",
    "    family_status = row['family_status']\n",
    "    if family_status == 'married':\n",
    "        return 0\n",
    "    elif family_status == 'civil partnership':\n",
    "        return 1\n",
    "    elif family_status == 'widow / widower':\n",
    "        return 2\n",
    "    elif family_status == 'divorced':\n",
    "        return 3\n",
    "    elif family_status == 'unmarried':\n",
    "        return 4\n",
    "\n",
    "credit_scoring['education_id'] = credit_scoring.apply(replacement_education, axis=1)\n",
    "credit_scoring['family_status_id'] = credit_scoring.apply(replacement_family_status, axis=1)\n",
    "print(credit_scoring.tail(10))\n",
    "\n",
    "\n",
    "credit_scoring = credit_scoring.drop_duplicates()\n",
    "print(credit_scoring.info())"
   ]
  },
  {
   "cell_type": "markdown",
   "metadata": {},
   "source": [
    "### Conclusion"
   ]
  },
  {
   "cell_type": "markdown",
   "metadata": {},
   "source": [
    "Is impossible to check for each row if the 'education_id' or the 'family_status_id' ar consistent with the configuration they belong.\n",
    "At the end we will drop the duplicates. 21378 entries from 21524.\n"
   ]
  },
  {
   "cell_type": "markdown",
   "metadata": {},
   "source": [
    "### Lemmatization"
   ]
  },
  {
   "cell_type": "code",
   "execution_count": 23,
   "metadata": {},
   "outputs": [
    {
     "name": "stdout",
     "output_type": "stream",
     "text": [
      "['house' 'car' 'education' 'wedding']\n"
     ]
    }
   ],
   "source": [
    "import nltk\n",
    "from nltk.stem import WordNetLemmatizer\n",
    "from collections import Counter\n",
    "\n",
    "wordnet_lemma = WordNetLemmatizer()\n",
    "words = credit_scoring['purpose'].unique()\n",
    "lemmas = [wordnet_lemma.lemmatize(w, pos = 'n') for w in words]\n",
    "counter = Counter(lemmas)\n",
    "# print(lemmas)\n",
    "# print(counter)\n",
    "\n",
    "def replacement_purpose (row):\n",
    "    purpose_row = row['purpose']\n",
    "    if 'hous' in purpose_row:\n",
    "        return 'house'\n",
    "    elif 'property' in purpose_row:\n",
    "        return 'house'\n",
    "    elif 'real estate' in purpose_row:\n",
    "        return 'house'\n",
    "    elif 'car' in purpose_row:\n",
    "        return 'car'\n",
    "    elif 'educat' in purpose_row:\n",
    "        return 'education'\n",
    "    elif 'university' in purpose_row:\n",
    "        return 'education'\n",
    "    elif 'wedding' in purpose_row:\n",
    "        return 'wedding'\n",
    "    return purpose_row\n",
    "\n",
    "credit_scoring['purpose'] = credit_scoring.apply(replacement_purpose, axis=1)\n",
    "print(credit_scoring['purpose'].unique())"
   ]
  },
  {
   "cell_type": "markdown",
   "metadata": {},
   "source": [
    "### Conclusion"
   ]
  },
  {
   "cell_type": "markdown",
   "metadata": {},
   "source": [
    "The purpose of a loan was separated in 4 main categories: house, car, education and wedding."
   ]
  },
  {
   "cell_type": "markdown",
   "metadata": {},
   "source": [
    "### Categorizing Data"
   ]
  },
  {
   "cell_type": "code",
   "execution_count": 24,
   "metadata": {},
   "outputs": [
    {
     "name": "stdout",
     "output_type": "stream",
     "text": [
      "The mean of income is: 151019.02\n",
      "The median of income is: 135761.26\n",
      "The minimun of income is: 0.00\n",
      "135761.26024673533\n",
      "middle_class    13355\n",
      "poor             6546\n",
      "high_class       1477\n",
      "Name: income_group, dtype: int64\n",
      "adult    11047\n",
      "old       6626\n",
      "young     3705\n",
      "Name: age_group, dtype: int64\n",
      "0    14091\n",
      "1     7287\n",
      "Name: children_group, dtype: int64\n"
     ]
    }
   ],
   "source": [
    "print('The mean of income is: {:.2f}'.format(credit_scoring['total_income'].mean()))\n",
    "print('The median of income is: {:.2f}'.format(credit_scoring['total_income'].median()))\n",
    "print('The minimun of income is: {:.2f}'.format(credit_scoring['total_income'].min()))\n",
    "\n",
    "print(credit_scoring['total_income'].median())\n",
    "\n",
    "def income_to_group(row):\n",
    "    income = row['total_income']\n",
    "    if income <= 100000 :\n",
    "        return 'poor'\n",
    "    elif income <= 300000:\n",
    "        return 'middle_class'\n",
    "    return 'high_class'\n",
    "def age_to_group(row):\n",
    "    age = row['dob_years']\n",
    "    if age <= 30 :\n",
    "        return 'young'\n",
    "    elif age <= 50:\n",
    "        return 'adult'\n",
    "    return 'old'\n",
    "def children_to_group(row):\n",
    "    child = row['children']\n",
    "    if child == 0 :\n",
    "        return 0\n",
    "    return 1\n",
    "\n",
    "credit_scoring['income_group'] = credit_scoring.apply(income_to_group, axis=1)\n",
    "credit_scoring['age_group'] = credit_scoring.apply(age_to_group, axis=1)\n",
    "credit_scoring['children_group'] = credit_scoring.apply(children_to_group, axis=1)\n",
    "\n",
    "print(credit_scoring['income_group'].value_counts())\n",
    "print(credit_scoring['age_group'].value_counts())\n",
    "print(credit_scoring['children_group'].value_counts())\n"
   ]
  },
  {
   "cell_type": "markdown",
   "metadata": {},
   "source": [
    "### Conclusion"
   ]
  },
  {
   "cell_type": "markdown",
   "metadata": {},
   "source": [
    "As in normal life, we get a Normal distribution, where most of the people are in the middle class, and the others on the wings.\n",
    "The children colum will be clasified as with or without children.\n",
    "These three were the only columns remained to categorize. The others were already categorize when processing the data."
   ]
  },
  {
   "cell_type": "markdown",
   "metadata": {},
   "source": [
    "### Step 3. Answer these questions"
   ]
  },
  {
   "cell_type": "markdown",
   "metadata": {},
   "source": [
    "- Is there a relation between having kids and repaying a loan on time?"
   ]
  },
  {
   "cell_type": "code",
   "execution_count": 25,
   "metadata": {},
   "outputs": [
    {
     "name": "stdout",
     "output_type": "stream",
     "text": [
      "children_group  debt\n",
      "0               0       13028\n",
      "                1        1063\n",
      "1               0        6617\n",
      "                1         670\n",
      "dtype: int64\n",
      "The probability of people without children to repay a loan is: 0.92\n",
      "The probability of people without children to not repay a loan is: 0.08\n",
      "The probability of people with children to repay a loan is: 0.91\n",
      "The probability of people with children to not repay a loan is: 0.09\n"
     ]
    }
   ],
   "source": [
    "kid_table = credit_scoring.groupby('children_group').count()\n",
    "# print(kid_table['debt'])\n",
    "debt_table = credit_scoring.groupby('debt').count()\n",
    "# print(debt_table['children_group'])\n",
    "children_debt_table = credit_scoring.groupby(['children_group','debt']).size()\n",
    "print(children_debt_table)\n",
    "no_kid_no_debt = 13086\n",
    "no_kid_yes_debt = 1063\n",
    "yes_kid_no_debt = 6698\n",
    "yes_kid_yes_debt = 678\n",
    "no_kid = no_kid_no_debt + no_kid_yes_debt\n",
    "yes_kid = yes_kid_no_debt + yes_kid_yes_debt\n",
    "no_debt = no_kid_no_debt + yes_kid_no_debt\n",
    "yes_debt = no_kid_yes_debt + yes_kid_yes_debt\n",
    "prob_no_kid_no_debt = no_kid_no_debt/no_kid\n",
    "prob_no_kid_yes_debt = no_kid_yes_debt/no_kid\n",
    "prob_yes_kid_no_debt = yes_kid_no_debt/yes_kid\n",
    "prob_yes_kid_yes_debt = yes_kid_yes_debt/yes_kid\n",
    "\n",
    "print('The probability of people without children to repay a loan is: {:.2f}'.format(prob_no_kid_no_debt))\n",
    "print('The probability of people without children to not repay a loan is: {:.2f}'.format(prob_no_kid_yes_debt))\n",
    "print('The probability of people with children to repay a loan is: {:.2f}'.format(prob_yes_kid_no_debt))\n",
    "print('The probability of people with children to not repay a loan is: {:.2f}'.format(prob_yes_kid_yes_debt))\n"
   ]
  },
  {
   "cell_type": "markdown",
   "metadata": {},
   "source": [
    "### Conclusion"
   ]
  },
  {
   "cell_type": "markdown",
   "metadata": {},
   "source": [
    "Having children or not, does not have much influence wether people repay the loan, since both group have very similar percentages. We can see that no having children has a very small advantage on repaying a loan o time."
   ]
  },
  {
   "cell_type": "markdown",
   "metadata": {},
   "source": [
    "- Is there a relation between marital status and repaying a loan on time?"
   ]
  },
  {
   "cell_type": "code",
   "execution_count": 26,
   "metadata": {},
   "outputs": [
    {
     "name": "stdout",
     "output_type": "stream",
     "text": [
      "family_status      debt\n",
      "civil partnership  0        3754\n",
      "                   1         385\n",
      "divorced           0        1109\n",
      "                   1          84\n",
      "married            0       11362\n",
      "                   1         928\n",
      "unmarried          0        2528\n",
      "                   1         273\n",
      "widow / widower    0         892\n",
      "                   1          63\n",
      "dtype: int64\n",
      "The probability of people with status of civil partnership to repay a loan is: 0.91\n",
      "The probability of people with status of civil to not repay a loan is: 0.09\n",
      "The probability of people with status of divorced to repay a loan is: 0.93\n",
      "The probability of people with status of divorced to not repay a loan is: 0.07\n",
      "The probability of people with status of married to repay a loan is: 0.92\n",
      "The probability of people with status of married to not repay a loan is: 0.08\n",
      "The probability of people with status of unmarried to repay a loan is: 0.90\n",
      "The probability of people with status of unmarried to not repay a loan is: 0.10\n",
      "The probability of people with status of widow/widower to repay a loan is: 0.93\n",
      "The probability of people with status of widow/widower to not repay a loan is: 0.07\n"
     ]
    }
   ],
   "source": [
    "maritage_debt_table = credit_scoring.groupby(['family_status','debt']).size()\n",
    "print(maritage_debt_table)\n",
    "civil_no_debt = 3789\n",
    "civil_yes_debt = 388\n",
    "divorced_no_debt = 1110\n",
    "divorced_yes_debt = 85\n",
    "married_no_debt = 11449\n",
    "married_yes_debt = 931\n",
    "unmarried_no_debt = 2539\n",
    "unmarried_yes_debt = 274\n",
    "widow_no_debt = 897\n",
    "widow_yes_debt = 63\n",
    "civil = civil_no_debt + civil_yes_debt\n",
    "divorced = divorced_no_debt + divorced_yes_debt\n",
    "married = married_no_debt + married_yes_debt\n",
    "unmarried = unmarried_no_debt + unmarried_yes_debt\n",
    "widow = widow_no_debt + widow_yes_debt\n",
    "prob_civil_no_debt = civil_no_debt/civil\n",
    "prob_civil_yes_debt = civil_yes_debt/civil\n",
    "prob_divorced_no_debt = divorced_no_debt/divorced\n",
    "prob_divorced_yes_debt = divorced_yes_debt/divorced\n",
    "prob_married_no_debt = married_no_debt/married\n",
    "prob_married_yes_debt = married_yes_debt/married\n",
    "prob_unmarried_no_debt = unmarried_no_debt/unmarried\n",
    "prob_unmarried_yes_debt = unmarried_yes_debt/unmarried\n",
    "prob_widow_no_debt = widow_no_debt/widow\n",
    "prob_widow_yes_debt = widow_yes_debt/widow\n",
    "print('The probability of people with status of civil partnership to repay a loan is: {:.2f}'.format(prob_civil_no_debt))\n",
    "print('The probability of people with status of civil to not repay a loan is: {:.2f}'.format(prob_civil_yes_debt))\n",
    "print('The probability of people with status of divorced to repay a loan is: {:.2f}'.format(prob_divorced_no_debt))\n",
    "print('The probability of people with status of divorced to not repay a loan is: {:.2f}'.format(prob_divorced_yes_debt))\n",
    "print('The probability of people with status of married to repay a loan is: {:.2f}'.format(prob_married_no_debt))\n",
    "print('The probability of people with status of married to not repay a loan is: {:.2f}'.format(prob_married_yes_debt))\n",
    "print('The probability of people with status of unmarried to repay a loan is: {:.2f}'.format(prob_unmarried_no_debt))\n",
    "print('The probability of people with status of unmarried to not repay a loan is: {:.2f}'.format(prob_unmarried_yes_debt))\n",
    "print('The probability of people with status of widow/widower to repay a loan is: {:.2f}'.format(prob_widow_no_debt))\n",
    "print('The probability of people with status of widow/widower to not repay a loan is: {:.2f}'.format(prob_widow_yes_debt))\n"
   ]
  },
  {
   "cell_type": "markdown",
   "metadata": {},
   "source": [
    "### Conclusion"
   ]
  },
  {
   "cell_type": "markdown",
   "metadata": {},
   "source": [
    "Also here we can see that almost all percentages are prety the same, where repaying the loan is above 90% for each family status. Divorce and widow people had better percentage to repay a loan on time, whether unmarried people had the worst probability of repaying a loan on time."
   ]
  },
  {
   "cell_type": "markdown",
   "metadata": {},
   "source": [
    "- Is there a relation between income level and repaying a loan on time?"
   ]
  },
  {
   "cell_type": "code",
   "execution_count": 27,
   "metadata": {},
   "outputs": [
    {
     "name": "stdout",
     "output_type": "stream",
     "text": [
      "income_group  debt\n",
      "high_class    0        1371\n",
      "              1         106\n",
      "middle_class  0       12252\n",
      "              1        1103\n",
      "poor          0        6022\n",
      "              1         524\n",
      "dtype: int64\n",
      "The probability of people from high class to repay a loan is: 0.92\n",
      "The probability of people from high class to not repay a loan is: 0.08\n",
      "The probability of people from middle class to repay a loan is: 0.92\n",
      "The probability of people from middle class to not repay a loan is: 0.08\n",
      "The probability of people from poor class to repay a loan is: 0.92\n",
      "The probability of people from poor class to not repay a loan is: 0.08\n"
     ]
    }
   ],
   "source": [
    "income_group_debt_table = credit_scoring.groupby(['income_group','debt']).size()\n",
    "print(income_group_debt_table)\n",
    "high_class_no_debt = 2043\n",
    "high_class_yes_debt = 174\n",
    "middle_class_no_debt = 13632\n",
    "middle_class_yes_debt = 1213\n",
    "poor_no_debt = 4109\n",
    "poor_yes_debt = 354\n",
    "high_class = high_class_no_debt + high_class_yes_debt\n",
    "middle_class = middle_class_no_debt + middle_class_yes_debt\n",
    "poor = poor_no_debt + poor_yes_debt\n",
    "prob_high_class_no_debt = high_class_no_debt/high_class\n",
    "prob_high_class_yes_debt = high_class_yes_debt/high_class\n",
    "prob_middle_class_no_debt = middle_class_no_debt/middle_class\n",
    "prob_middle_class_yes_debt = middle_class_yes_debt/middle_class\n",
    "prob_poor_no_debt = poor_no_debt/poor\n",
    "prob_poor_yes_debt = poor_yes_debt/poor\n",
    "\n",
    "print('The probability of people from high class to repay a loan is: {:.2f}'.format(prob_high_class_no_debt))\n",
    "print('The probability of people from high class to not repay a loan is: {:.2f}'.format(prob_high_class_yes_debt))\n",
    "print('The probability of people from middle class to repay a loan is: {:.2f}'.format(prob_middle_class_no_debt))\n",
    "print('The probability of people from middle class to not repay a loan is: {:.2f}'.format(prob_middle_class_yes_debt))\n",
    "print('The probability of people from poor class to repay a loan is: {:.2f}'.format(prob_poor_no_debt))\n",
    "print('The probability of people from poor class to not repay a loan is: {:.2f}'.format(prob_poor_yes_debt))\n"
   ]
  },
  {
   "cell_type": "markdown",
   "metadata": {},
   "source": [
    "### Conclusion"
   ]
  },
  {
   "cell_type": "markdown",
   "metadata": {},
   "source": [
    "Surprisingly, the classes have no difference on repaying a loan on time."
   ]
  },
  {
   "cell_type": "markdown",
   "metadata": {},
   "source": [
    "- How do different loan purposes affect on-time repayment of the loan?"
   ]
  },
  {
   "cell_type": "code",
   "execution_count": 28,
   "metadata": {},
   "outputs": [
    {
     "name": "stdout",
     "output_type": "stream",
     "text": [
      "purpose    debt\n",
      "car        0       3889\n",
      "           1        401\n",
      "education  0       3629\n",
      "           1        369\n",
      "house      0       9995\n",
      "           1        780\n",
      "wedding    0       2132\n",
      "           1        183\n",
      "dtype: int64\n",
      "The probability of people with purpose of buying a car to repay a loan is: 0.91\n",
      "The probability of people with purpose of buying a car to not repay a loan is: 0.09\n",
      "The probability of people with purpose of paying for education to repay a loan is: 0.91\n",
      "The probability of people with purpose of paying for education to not repay a loan is: 0.09\n",
      "The probability of people with purpose of buying a house to repay a loan is: 0.93\n",
      "The probability of people with purpose of buying a house to not repay a loan is: 0.07\n",
      "The probability of people with purpose of paying for a wedding to repay a loan is: 0.92\n",
      "The probability of people with purpose of paying for a wedding to not repay a loan is: 0.08\n"
     ]
    }
   ],
   "source": [
    "purpose_debt_table = credit_scoring.groupby(['purpose','debt']).size()\n",
    "print(purpose_debt_table)\n",
    "car_no_debt = 3898\n",
    "car_yes_debt = 401\n",
    "education_no_debt = 3638\n",
    "education_yes_debt = 369\n",
    "house_no_debt = 10024\n",
    "house_yes_debt = 780\n",
    "wedding_no_debt = 2156\n",
    "wedding_yes_debt = 183\n",
    "car = car_no_debt + car_yes_debt\n",
    "education = education_no_debt + education_yes_debt\n",
    "house = house_no_debt + house_yes_debt\n",
    "wedding = wedding_no_debt + wedding_yes_debt\n",
    "prob_car_no_debt = car_no_debt/car\n",
    "prob_car_yes_debt = car_yes_debt/car\n",
    "prob_education_no_debt = education_no_debt/education\n",
    "prob_education_yes_debt = education_yes_debt/education\n",
    "prob_house_no_debt = house_no_debt/house\n",
    "prob_house_yes_debt = house_yes_debt/house\n",
    "prob_wedding_no_debt = wedding_no_debt/wedding\n",
    "prob_wedding_yes_debt = wedding_yes_debt/wedding\n",
    "print('The probability of people with purpose of buying a car to repay a loan is: {:.2f}'.format(prob_car_no_debt))\n",
    "print('The probability of people with purpose of buying a car to not repay a loan is: {:.2f}'.format(prob_car_yes_debt))\n",
    "print('The probability of people with purpose of paying for education to repay a loan is: {:.2f}'.format(prob_education_no_debt))\n",
    "print('The probability of people with purpose of paying for education to not repay a loan is: {:.2f}'.format(prob_education_yes_debt))\n",
    "print('The probability of people with purpose of buying a house to repay a loan is: {:.2f}'.format(prob_house_no_debt))\n",
    "print('The probability of people with purpose of buying a house to not repay a loan is: {:.2f}'.format(prob_house_yes_debt))\n",
    "print('The probability of people with purpose of paying for a wedding to repay a loan is: {:.2f}'.format(prob_wedding_no_debt))\n",
    "print('The probability of people with purpose of paying for a wedding to not repay a loan is: {:.2f}'.format(prob_wedding_yes_debt))\n"
   ]
  },
  {
   "cell_type": "markdown",
   "metadata": {},
   "source": [
    "### Conclusion"
   ]
  },
  {
   "cell_type": "markdown",
   "metadata": {},
   "source": [
    "Also here we can see that almost all percentages are prety the same, where repaying the loan is above 91% for each purpose of the loan. People who took a loan in order to by a house had better percentage to repay a loan on time, whether buying a car or paying for educations (usually smaller loans..) had the worst probability of repaying a loan on time."
   ]
  },
  {
   "cell_type": "markdown",
   "metadata": {},
   "source": [
    "### Step 4. General conclusion"
   ]
  },
  {
   "cell_type": "markdown",
   "metadata": {},
   "source": [
    "The project consisted in preparing a report for a bank’s loan division. We took data on customers’ credit worthiness that the bank already collected. We first openned it and then had a look at the general information. We then preprocess the data, making sure we could work with it. I classified the data that came from numbers, characters, words and sentences, made sure they make sence and are apropriate for data on customers’ credit worthiness.\n",
    "The purpose of this project is to involve the report to be considered when building a credit scoring of a potential customer. A credit scoring is used to evaluate the ability of a potential borrower to repay their loan.\n",
    "The general conclusion is that by the data we had, and the checks we made, repaying a loan on time had almost same percentage for each different classifier, what made it difficult to make a good information review. Further we will need to check cross information, or we will need to take other parameters that could help better to have a more clear separation beween people repaying loan on time."
   ]
  }
 ],
 "metadata": {
  "kernelspec": {
   "display_name": "Python 3",
   "language": "python",
   "name": "python3"
  },
  "language_info": {
   "codemirror_mode": {
    "name": "ipython",
    "version": 3
   },
   "file_extension": ".py",
   "mimetype": "text/x-python",
   "name": "python",
   "nbconvert_exporter": "python",
   "pygments_lexer": "ipython3",
   "version": "3.7.4"
  }
 },
 "nbformat": 4,
 "nbformat_minor": 2
}
