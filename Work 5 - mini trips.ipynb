{
 "cells": [
  {
   "cell_type": "code",
   "execution_count": 1,
   "metadata": {},
   "outputs": [],
   "source": [
    "import pandas as pd\n",
    "import numpy as np\n",
    "import matplotlib.pyplot as plt\n",
    "from scipy import stats as st\n",
    "import seaborn as sns"
   ]
  },
  {
   "cell_type": "code",
   "execution_count": 2,
   "metadata": {
    "scrolled": false
   },
   "outputs": [
    {
     "data": {
      "text/html": [
       "<div>\n",
       "<style scoped>\n",
       "    .dataframe tbody tr th:only-of-type {\n",
       "        vertical-align: middle;\n",
       "    }\n",
       "\n",
       "    .dataframe tbody tr th {\n",
       "        vertical-align: top;\n",
       "    }\n",
       "\n",
       "    .dataframe thead th {\n",
       "        text-align: right;\n",
       "    }\n",
       "</style>\n",
       "<table border=\"1\" class=\"dataframe\">\n",
       "  <thead>\n",
       "    <tr style=\"text-align: right;\">\n",
       "      <th></th>\n",
       "      <th>company_name</th>\n",
       "      <th>trips_amount</th>\n",
       "    </tr>\n",
       "  </thead>\n",
       "  <tbody>\n",
       "    <tr>\n",
       "      <td>0</td>\n",
       "      <td>Flash Cab</td>\n",
       "      <td>19558</td>\n",
       "    </tr>\n",
       "    <tr>\n",
       "      <td>1</td>\n",
       "      <td>Taxi Affiliation Services</td>\n",
       "      <td>11422</td>\n",
       "    </tr>\n",
       "    <tr>\n",
       "      <td>2</td>\n",
       "      <td>Medallion Leasing</td>\n",
       "      <td>10367</td>\n",
       "    </tr>\n",
       "    <tr>\n",
       "      <td>3</td>\n",
       "      <td>Yellow Cab</td>\n",
       "      <td>9888</td>\n",
       "    </tr>\n",
       "    <tr>\n",
       "      <td>4</td>\n",
       "      <td>Taxi Affiliation Service Yellow</td>\n",
       "      <td>9299</td>\n",
       "    </tr>\n",
       "  </tbody>\n",
       "</table>\n",
       "</div>"
      ],
      "text/plain": [
       "                      company_name  trips_amount\n",
       "0                        Flash Cab         19558\n",
       "1        Taxi Affiliation Services         11422\n",
       "2                Medallion Leasing         10367\n",
       "3                       Yellow Cab          9888\n",
       "4  Taxi Affiliation Service Yellow          9299"
      ]
     },
     "metadata": {},
     "output_type": "display_data"
    },
    {
     "name": "stdout",
     "output_type": "stream",
     "text": [
      "19558\n",
      "2\n",
      "178.5\n",
      "2145.484375\n",
      "<class 'pandas.core.frame.DataFrame'>\n",
      "RangeIndex: 64 entries, 0 to 63\n",
      "Data columns (total 2 columns):\n",
      "company_name    64 non-null object\n",
      "trips_amount    64 non-null int64\n",
      "dtypes: int64(1), object(1)\n",
      "memory usage: 1.1+ KB\n"
     ]
    },
    {
     "data": {
      "text/plain": [
       "<matplotlib.axes._subplots.AxesSubplot at 0x7fa394532110>"
      ]
     },
     "execution_count": 2,
     "metadata": {},
     "output_type": "execute_result"
    },
    {
     "data": {
      "image/png": "[encoded data removed]",
      "text/plain": [
       "<Figure size 1008x432 with 1 Axes>"
      ]
     },
     "metadata": {
      "needs_background": "light"
     },
     "output_type": "display_data"
    }
   ],
   "source": [
    "df_companies = pd.read_csv('/datasets/project_sql_result_01.csv')\n",
    "display(df_companies.head())\n",
    "print(df_companies['trips_amount'].max())\n",
    "print(df_companies['trips_amount'].min())\n",
    "print(df_companies['trips_amount'].median())\n",
    "print(df_companies['trips_amount'].mean())\n",
    "df_companies.info()\n",
    "df_companies = df_companies.sort_values(by=['trips_amount'],ascending=False)\n",
    "df_companies.plot(kind='bar', rot=90, figsize=(14,6),legend=False)\n",
    "df_companies.describe()"
   ]
  },
  {
   "cell_type": "markdown",
   "metadata": {},
   "source": [
    "The dataset 'df_companies' contains 2 columns, and the trips amount is on int.\n",
    "We can see that one company (\"Flash Cab\") dominates a big part of the market, with almost double trips than the second one. The median has less than 200 trips, thus, most of the market is dominated by big companies. Only 1/6 of the companies do more than 2500 rides, that is almost tthe average.   "
   ]
  },
  {
   "cell_type": "code",
   "execution_count": 3,
   "metadata": {},
   "outputs": [
    {
     "data": {
      "text/html": [
       "<div>\n",
       "<style scoped>\n",
       "    .dataframe tbody tr th:only-of-type {\n",
       "        vertical-align: middle;\n",
       "    }\n",
       "\n",
       "    .dataframe tbody tr th {\n",
       "        vertical-align: top;\n",
       "    }\n",
       "\n",
       "    .dataframe thead th {\n",
       "        text-align: right;\n",
       "    }\n",
       "</style>\n",
       "<table border=\"1\" class=\"dataframe\">\n",
       "  <thead>\n",
       "    <tr style=\"text-align: right;\">\n",
       "      <th></th>\n",
       "      <th>dropoff_location_name</th>\n",
       "      <th>average_trips</th>\n",
       "    </tr>\n",
       "  </thead>\n",
       "  <tbody>\n",
       "    <tr>\n",
       "      <td>0</td>\n",
       "      <td>Loop</td>\n",
       "      <td>10727.466667</td>\n",
       "    </tr>\n",
       "    <tr>\n",
       "      <td>1</td>\n",
       "      <td>River North</td>\n",
       "      <td>9523.666667</td>\n",
       "    </tr>\n",
       "    <tr>\n",
       "      <td>2</td>\n",
       "      <td>Streeterville</td>\n",
       "      <td>6664.666667</td>\n",
       "    </tr>\n",
       "    <tr>\n",
       "      <td>3</td>\n",
       "      <td>West Loop</td>\n",
       "      <td>5163.666667</td>\n",
       "    </tr>\n",
       "    <tr>\n",
       "      <td>4</td>\n",
       "      <td>O'Hare</td>\n",
       "      <td>2546.900000</td>\n",
       "    </tr>\n",
       "    <tr>\n",
       "      <td>5</td>\n",
       "      <td>Lake View</td>\n",
       "      <td>2420.966667</td>\n",
       "    </tr>\n",
       "    <tr>\n",
       "      <td>6</td>\n",
       "      <td>Grant Park</td>\n",
       "      <td>2068.533333</td>\n",
       "    </tr>\n",
       "    <tr>\n",
       "      <td>7</td>\n",
       "      <td>Museum Campus</td>\n",
       "      <td>1510.000000</td>\n",
       "    </tr>\n",
       "    <tr>\n",
       "      <td>8</td>\n",
       "      <td>Gold Coast</td>\n",
       "      <td>1364.233333</td>\n",
       "    </tr>\n",
       "    <tr>\n",
       "      <td>9</td>\n",
       "      <td>Sheffield &amp; DePaul</td>\n",
       "      <td>1259.766667</td>\n",
       "    </tr>\n",
       "  </tbody>\n",
       "</table>\n",
       "</div>"
      ],
      "text/plain": [
       "  dropoff_location_name  average_trips\n",
       "0                  Loop   10727.466667\n",
       "1           River North    9523.666667\n",
       "2         Streeterville    6664.666667\n",
       "3             West Loop    5163.666667\n",
       "4                O'Hare    2546.900000\n",
       "5             Lake View    2420.966667\n",
       "6            Grant Park    2068.533333\n",
       "7         Museum Campus    1510.000000\n",
       "8            Gold Coast    1364.233333\n",
       "9    Sheffield & DePaul    1259.766667"
      ]
     },
     "metadata": {},
     "output_type": "display_data"
    },
    {
     "name": "stdout",
     "output_type": "stream",
     "text": [
      "10727.466666666667\n",
      "1.8\n",
      "52.016666666666666\n",
      "599.9537281902999\n",
      "<class 'pandas.core.frame.DataFrame'>\n",
      "RangeIndex: 94 entries, 0 to 93\n",
      "Data columns (total 2 columns):\n",
      "dropoff_location_name    94 non-null object\n",
      "average_trips            94 non-null float64\n",
      "dtypes: float64(1), object(1)\n",
      "memory usage: 1.6+ KB\n"
     ]
    },
    {
     "data": {
      "text/plain": [
       "<matplotlib.axes._subplots.AxesSubplot at 0x7fa391a9da50>"
      ]
     },
     "execution_count": 3,
     "metadata": {},
     "output_type": "execute_result"
    },
    {
     "data": {
      "image/png": "[encoded data removed]",
      "text/plain": [
       "<Figure size 1008x432 with 1 Axes>"
      ]
     },
     "metadata": {
      "needs_background": "light"
     },
     "output_type": "display_data"
    }
   ],
   "source": [
    "df_dropoff = pd.read_csv('/datasets/project_sql_result_04.csv')\n",
    "display(df_dropoff.head(10))\n",
    "print(df_dropoff['average_trips'].max())\n",
    "print(df_dropoff['average_trips'].min())\n",
    "print(df_dropoff['average_trips'].median())\n",
    "print(df_dropoff['average_trips'].mean())\n",
    "df_dropoff.info()\n",
    "df_dropoff = df_dropoff.sort_values(by=['average_trips'],ascending=False)\n",
    "df_dropoff.plot(kind='bar', rot=90, figsize=(14,6),legend=False)"
   ]
  },
  {
   "cell_type": "markdown",
   "metadata": {},
   "source": [
    "The dataset 'df_dropoff' contains 2 columns, and the average is on float.\n",
    "The same happens here, the average is much more higher than the median, meaning that few places are the most place people drive to. Only 4 places had more than 2500 dropoff."
   ]
  },
  {
   "cell_type": "code",
   "execution_count": 4,
   "metadata": {},
   "outputs": [
    {
     "name": "stdout",
     "output_type": "stream",
     "text": [
      "['Flash Cab' 'Taxi Affiliation Services' 'Medallion Leasing' 'Yellow Cab'\n",
      " 'Taxi Affiliation Service Yellow' 'Chicago Carriage Cab Corp'\n",
      " 'City Service' 'Sun Taxi' 'Star North Management LLC'\n",
      " 'Blue Ribbon Taxi Association Inc.' 'Choice Taxi Association'\n",
      " 'Globe Taxi' 'Dispatch Taxi Affiliation' 'Nova Taxi Affiliation Llc'\n",
      " 'Patriot Taxi Dba Peace Taxi Association' 'Checker Taxi Affiliation'\n",
      " 'Blue Diamond' 'Chicago Medallion Management' '24 Seven Taxi'\n",
      " 'Chicago Medallion Leasing INC' 'Checker Taxi' 'American United'\n",
      " 'Chicago Independents' 'KOAM Taxi Association' 'Chicago Taxicab'\n",
      " 'Top Cab Affiliation' 'Gold Coast Taxi' 'Service Taxi Association'\n",
      " '5 Star Taxi' '303 Taxi' 'Setare Inc' 'American United Taxi Affiliation'\n",
      " 'Leonard Cab Co' 'Metro Jet Taxi A' 'Norshore Cab'\n",
      " '6742 - 83735 Tasha Ride Inc' '3591 - 63480 Chuks Cab'\n",
      " '1469 - 64126 Omar Jada' '6743 - 78771 Luhak Corp'\n",
      " '0118 - 42111 Godfrey S. Awir' '6574 - Babylon Express Inc.'\n",
      " 'Chicago Star Taxicab' '1085 - 72312 N and W Cab Co'\n",
      " '2809 - 95474 C & D Cab Co Inc.' '2092 - 61288 Sbeih Company'\n",
      " '3011 - 66308 JBL Cab Inc.' '3620 - 52292 David K. Cab Corp.'\n",
      " '4615 - 83503 Tyrone Henderson' '3623 - 72222 Arrington Enterprises'\n",
      " '5074 - 54002 Ahzmi Inc' '2823 - 73307 Lee Express Inc'\n",
      " '4623 - 27290 Jay Kim' '3721 - Santamaria Express'\n",
      " '5006 - 39261 Salifu Bawa' '2192 - 73487 Zeymane Corp'\n",
      " '6057 - 24657 Richard Addo' '5997 - 65283 AW Services Inc.' 'Metro Group'\n",
      " '5062 - 34841 Sam Mestas' '4053 - 40193 Adwar H. Nikola'\n",
      " '2733 - 74600 Benny Jona' '5874 - 73628 Sergey Cab Corp.'\n",
      " '2241 - 44667 - Felman Corp' '3556 - 36214 RC Andrews Cab']\n",
      "2192 - 73487 Zeymane Corp          1\n",
      "6574 - Babylon Express Inc.        1\n",
      "Taxi Affiliation Service Yellow    1\n",
      "Gold Coast Taxi                    1\n",
      "Checker Taxi                       1\n",
      "                                  ..\n",
      "2823 - 73307 Lee Express Inc       1\n",
      "Metro Group                        1\n",
      "5997 - 65283 AW Services Inc.      1\n",
      "Chicago Medallion Leasing INC      1\n",
      "Sun Taxi                           1\n",
      "Name: company_name, Length: 64, dtype: int64\n"
     ]
    }
   ],
   "source": [
    "print(df_companies['company_name'].unique())\n",
    "print(df_companies['company_name'].value_counts())"
   ]
  },
  {
   "cell_type": "code",
   "execution_count": 5,
   "metadata": {},
   "outputs": [
    {
     "name": "stdout",
     "output_type": "stream",
     "text": [
      "['Loop' 'River North' 'Streeterville' 'West Loop' \"O'Hare\" 'Lake View'\n",
      " 'Grant Park' 'Museum Campus' 'Gold Coast' 'Sheffield & DePaul'\n",
      " 'Lincoln Park' 'East Village' 'Little Italy, UIC' 'Uptown'\n",
      " 'Near South Side' 'Garfield Ridge' 'Logan Square' 'Edgewater' 'West Town'\n",
      " 'Old Town' 'Rush & Division' 'North Center' 'Lincoln Square'\n",
      " 'Rogers Park' 'West Ridge' 'Irving Park' 'Hyde Park' 'Avondale'\n",
      " 'Wicker Park' 'Albany Park' 'United Center' 'Lower West Side' 'Douglas'\n",
      " 'Portage Park' 'Humboldt Park' 'Norwood Park' 'Kenwood' 'Bridgeport'\n",
      " 'Armour Square' 'Jefferson Park' 'Bucktown' 'North Park' 'Garfield Park'\n",
      " 'Mckinley Park' 'Belmont Cragin' 'Boystown' 'Chinatown' 'Grand Boulevard'\n",
      " 'Austin' 'Sauganash,Forest Glen' 'South Shore' 'Woodlawn'\n",
      " 'Little Village' 'Jackson Park' 'North Lawndale' 'Dunning'\n",
      " 'Ukrainian Village' 'Hermosa' 'Englewood' 'Chatham' 'New City'\n",
      " 'Grand Crossing' 'Brighton Park' 'Andersonville' 'Oakland' 'Ashburn'\n",
      " 'Washington Park' 'Auburn Gresham' 'Clearing' 'Roseland' 'Wrigleyville'\n",
      " 'Edison Park' 'South Chicago' 'Chicago Lawn' 'Beverly' 'Calumet Heights'\n",
      " 'Washington Heights' 'Archer Heights' 'Gage Park' 'Fuller Park'\n",
      " 'West Lawn' 'Morgan Park' 'South Deering' 'Avalon Park' 'West Pullman'\n",
      " 'Montclare' 'West Elsdon' 'Pullman' 'Undef' 'Mount Greenwood' 'Hegewisch'\n",
      " 'Burnside' 'East Side' 'Riverdale']\n",
      "Jefferson Park        1\n",
      "Little Italy, UIC     1\n",
      "Near South Side       1\n",
      "United Center         1\n",
      "Washington Heights    1\n",
      "                     ..\n",
      "Sheffield & DePaul    1\n",
      "Andersonville         1\n",
      "Lower West Side       1\n",
      "Jackson Park          1\n",
      "Englewood             1\n",
      "Name: dropoff_location_name, Length: 94, dtype: int64\n"
     ]
    }
   ],
   "source": [
    "print(df_dropoff['dropoff_location_name'].unique())\n",
    "print(df_dropoff['dropoff_location_name'].value_counts())"
   ]
  },
  {
   "cell_type": "markdown",
   "metadata": {},
   "source": [
    "Names looking okay. No nulls found."
   ]
  },
  {
   "cell_type": "code",
   "execution_count": 6,
   "metadata": {},
   "outputs": [
    {
     "data": {
      "text/plain": [
       "<matplotlib.axes._subplots.AxesSubplot at 0x7fa3919e3350>"
      ]
     },
     "execution_count": 6,
     "metadata": {},
     "output_type": "execute_result"
    },
    {
     "data": {
      "image/png": "[encoded data removed]",
      "text/plain": [
       "<Figure size 1008x432 with 1 Axes>"
      ]
     },
     "metadata": {
      "needs_background": "light"
     },
     "output_type": "display_data"
    }
   ],
   "source": [
    "top_10 = df_dropoff.head(10)\n",
    "top_10 = top_10.groupby(['dropoff_location_name']).agg({'average_trips':'sum'}).rename(columns={'dropoff_location_name':'average_trips'})\n",
    "top_10 = top_10.sort_values(by=['average_trips'],ascending=False)\n",
    "top_10.plot(kind='bar', rot=45, figsize=(14,6),legend=False)"
   ]
  },
  {
   "cell_type": "markdown",
   "metadata": {},
   "source": [
    "Also from here we can see that only 4 places had more than 2500 dropoff and most of the dropoff where at the 'Loop', 'River North', 'Streeterville' & 'West Loop'."
   ]
  },
  {
   "cell_type": "code",
   "execution_count": 7,
   "metadata": {},
   "outputs": [
    {
     "data": {
      "text/html": [
       "<div>\n",
       "<style scoped>\n",
       "    .dataframe tbody tr th:only-of-type {\n",
       "        vertical-align: middle;\n",
       "    }\n",
       "\n",
       "    .dataframe tbody tr th {\n",
       "        vertical-align: top;\n",
       "    }\n",
       "\n",
       "    .dataframe thead th {\n",
       "        text-align: right;\n",
       "    }\n",
       "</style>\n",
       "<table border=\"1\" class=\"dataframe\">\n",
       "  <thead>\n",
       "    <tr style=\"text-align: right;\">\n",
       "      <th></th>\n",
       "      <th>start_ts</th>\n",
       "      <th>weather_conditions</th>\n",
       "      <th>duration_seconds</th>\n",
       "    </tr>\n",
       "  </thead>\n",
       "  <tbody>\n",
       "    <tr>\n",
       "      <td>0</td>\n",
       "      <td>2017-11-25 16:00:00</td>\n",
       "      <td>Good</td>\n",
       "      <td>2410.0</td>\n",
       "    </tr>\n",
       "    <tr>\n",
       "      <td>1</td>\n",
       "      <td>2017-11-25 14:00:00</td>\n",
       "      <td>Good</td>\n",
       "      <td>1920.0</td>\n",
       "    </tr>\n",
       "    <tr>\n",
       "      <td>2</td>\n",
       "      <td>2017-11-25 12:00:00</td>\n",
       "      <td>Good</td>\n",
       "      <td>1543.0</td>\n",
       "    </tr>\n",
       "    <tr>\n",
       "      <td>3</td>\n",
       "      <td>2017-11-04 10:00:00</td>\n",
       "      <td>Good</td>\n",
       "      <td>2512.0</td>\n",
       "    </tr>\n",
       "    <tr>\n",
       "      <td>4</td>\n",
       "      <td>2017-11-11 07:00:00</td>\n",
       "      <td>Good</td>\n",
       "      <td>1440.0</td>\n",
       "    </tr>\n",
       "    <tr>\n",
       "      <td>5</td>\n",
       "      <td>2017-11-11 04:00:00</td>\n",
       "      <td>Good</td>\n",
       "      <td>1320.0</td>\n",
       "    </tr>\n",
       "    <tr>\n",
       "      <td>6</td>\n",
       "      <td>2017-11-04 16:00:00</td>\n",
       "      <td>Bad</td>\n",
       "      <td>2969.0</td>\n",
       "    </tr>\n",
       "    <tr>\n",
       "      <td>7</td>\n",
       "      <td>2017-11-18 11:00:00</td>\n",
       "      <td>Good</td>\n",
       "      <td>2280.0</td>\n",
       "    </tr>\n",
       "    <tr>\n",
       "      <td>8</td>\n",
       "      <td>2017-11-11 14:00:00</td>\n",
       "      <td>Good</td>\n",
       "      <td>2460.0</td>\n",
       "    </tr>\n",
       "    <tr>\n",
       "      <td>9</td>\n",
       "      <td>2017-11-11 12:00:00</td>\n",
       "      <td>Good</td>\n",
       "      <td>2040.0</td>\n",
       "    </tr>\n",
       "  </tbody>\n",
       "</table>\n",
       "</div>"
      ],
      "text/plain": [
       "              start_ts weather_conditions  duration_seconds\n",
       "0  2017-11-25 16:00:00               Good            2410.0\n",
       "1  2017-11-25 14:00:00               Good            1920.0\n",
       "2  2017-11-25 12:00:00               Good            1543.0\n",
       "3  2017-11-04 10:00:00               Good            2512.0\n",
       "4  2017-11-11 07:00:00               Good            1440.0\n",
       "5  2017-11-11 04:00:00               Good            1320.0\n",
       "6  2017-11-04 16:00:00                Bad            2969.0\n",
       "7  2017-11-18 11:00:00               Good            2280.0\n",
       "8  2017-11-11 14:00:00               Good            2460.0\n",
       "9  2017-11-11 12:00:00               Good            2040.0"
      ]
     },
     "metadata": {},
     "output_type": "display_data"
    },
    {
     "data": {
      "text/plain": [
       "array(['Good', 'Bad'], dtype=object)"
      ]
     },
     "execution_count": 7,
     "metadata": {},
     "output_type": "execute_result"
    }
   ],
   "source": [
    "df_loop_ohaire = pd.read_csv('/datasets/project_sql_result_07.csv')\n",
    "display(df_loop_ohaire.head(10))\n",
    "df_loop_ohaire['weather_conditions'].unique()"
   ]
  },
  {
   "cell_type": "code",
   "execution_count": 8,
   "metadata": {},
   "outputs": [],
   "source": [
    "def ttest_general(a,b):\n",
    "    alpha = .05       # critical statistical significance level\n",
    "\n",
    "    results = st.ttest_ind(a,b,equal_var=False)\n",
    "    print('p-value: {:.10f}'.format(results.pvalue))\n",
    "\n",
    "    if (results.pvalue<alpha):\n",
    "        print(\"We reject the null hypothesis\")\n",
    "    else:\n",
    "        print(\"We can't reject the null hypothesis\")"
   ]
  },
  {
   "cell_type": "code",
   "execution_count": 9,
   "metadata": {},
   "outputs": [
    {
     "name": "stdout",
     "output_type": "stream",
     "text": [
      "The average of trip duration on seconds with good weather: 1999.68.\n",
      "The average of trip duration on seconds with bad weather: 2427.21.\n",
      "p-value: 0.0000000000\n",
      "We reject the null hypothesis\n"
     ]
    }
   ],
   "source": [
    "ttest_good = df_loop_ohaire.query('weather_conditions == \"Good\"')['duration_seconds']\n",
    "ttest_bad = df_loop_ohaire.query('weather_conditions == \"Bad\"')['duration_seconds']\n",
    "print('The average of trip duration on seconds with good weather: {:.2f}.'.format(ttest_good.mean()))\n",
    "print('The average of trip duration on seconds with bad weather: {:.2f}.'.format(ttest_bad.mean()))\n",
    "ttest_general(ttest_good,ttest_bad)"
   ]
  },
  {
   "cell_type": "markdown",
   "metadata": {},
   "source": [
    "For the test we will use confidence level of 0.05.\n",
    "\n",
    "H0: The average are the same.\n",
    "H1: The average are different.\n",
    "\n",
    "Moreover, we don't know the distributions and their variance, thus, equal_variance = False.\n",
    "\n",
    "We will test the hypothesis that both average of the duration drives are the same when the weather changes.\n",
    "\n",
    "We found that there was a big change between  "
   ]
  }
 ],
 "metadata": {
  "kernelspec": {
   "display_name": "Python 3",
   "language": "python",
   "name": "python3"
  },
  "language_info": {
   "codemirror_mode": {
    "name": "ipython",
    "version": 3
   },
   "file_extension": ".py",
   "mimetype": "text/x-python",
   "name": "python",
   "nbconvert_exporter": "python",
   "pygments_lexer": "ipython3",
   "version": "3.7.4"
  }
 },
 "nbformat": 4,
 "nbformat_minor": 2
}
