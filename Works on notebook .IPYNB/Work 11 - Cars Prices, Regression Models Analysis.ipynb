{
 "cells": [
  {
   "cell_type": "markdown",
   "metadata": {},
   "source": [
    "In this work, I calculated the expected value of a car, depending on its parameters. I used Linear or other sifisticated Refressors, such as LGBMRegressor, CatBoostRegressor, RandomForestRegressor, LinearRegression, and more. Finaly I compared the models I got and checked them on a test database, according o some qualities parameters.\n",
    "\n",
    "Rusty Bargain used car sales service is developing an app to attract new customers. In that app, you can quickly find out the market value of your car. You have access to historical data: technical specifications, trim versions, and prices. You need to build the model to determine the value. \n",
    "\n",
    "Rusty Bargain is interested in:\n",
    "\n",
    "- the quality of the prediction;\n",
    "- the speed of the prediction;\n",
    "- the time required for training"
   ]
  },
  {
   "cell_type": "markdown",
   "metadata": {},
   "source": [
    "# 1. Data preparation\n",
    "## Libraries"
   ]
  },
  {
   "cell_type": "code",
   "execution_count": 62,
   "metadata": {},
   "outputs": [],
   "source": [
    "import sklearn\n",
    "import joblib\n",
    "import pandas as pd\n",
    "import numpy as np\n",
    "from joblib import dump\n",
    "import matplotlib.pyplot as plt\n",
    "from scipy import stats as st\n",
    "import seaborn as sns\n",
    "from sklearn.utils import shuffle\n",
    "from sklearn.model_selection import train_test_split\n",
    "from sklearn.tree import DecisionTreeClassifier, DecisionTreeRegressor\n",
    "from sklearn.ensemble import RandomForestClassifier, RandomForestRegressor\n",
    "from sklearn.linear_model import LogisticRegression, LinearRegression\n",
    "from sklearn.metrics import accuracy_score, confusion_matrix, f1_score, recall_score\n",
    "from sklearn.metrics import mean_squared_error, r2_score, mean_absolute_error, precision_score \n",
    "from sklearn.metrics import roc_auc_score, precision_recall_curve, roc_curve\n",
    "from sklearn.preprocessing import OrdinalEncoder, StandardScaler\n",
    "from catboost import CatBoostClassifier,CatBoostRegressor\n",
    "from lightgbm import LGBMRegressor\n",
    "from xgboost import XGBRegressor"
   ]
  },
  {
   "cell_type": "markdown",
   "metadata": {},
   "source": [
    "## Reading and looking the data"
   ]
  },
  {
   "cell_type": "code",
   "execution_count": 63,
   "metadata": {},
   "outputs": [
    {
     "data": {
      "text/html": [
       "<div>\n",
       "<style scoped>\n",
       "    .dataframe tbody tr th:only-of-type {\n",
       "        vertical-align: middle;\n",
       "    }\n",
       "\n",
       "    .dataframe tbody tr th {\n",
       "        vertical-align: top;\n",
       "    }\n",
       "\n",
       "    .dataframe thead th {\n",
       "        text-align: right;\n",
       "    }\n",
       "</style>\n",
       "<table border=\"1\" class=\"dataframe\">\n",
       "  <thead>\n",
       "    <tr style=\"text-align: right;\">\n",
       "      <th></th>\n",
       "      <th>DateCrawled</th>\n",
       "      <th>Price</th>\n",
       "      <th>VehicleType</th>\n",
       "      <th>RegistrationYear</th>\n",
       "      <th>Gearbox</th>\n",
       "      <th>Power</th>\n",
       "      <th>Model</th>\n",
       "      <th>Mileage</th>\n",
       "      <th>RegistrationMonth</th>\n",
       "      <th>FuelType</th>\n",
       "      <th>Brand</th>\n",
       "      <th>NotRepaired</th>\n",
       "      <th>DateCreated</th>\n",
       "      <th>NumberOfPictures</th>\n",
       "      <th>PostalCode</th>\n",
       "      <th>LastSeen</th>\n",
       "    </tr>\n",
       "  </thead>\n",
       "  <tbody>\n",
       "    <tr>\n",
       "      <td>0</td>\n",
       "      <td>24/03/2016 11:52</td>\n",
       "      <td>480</td>\n",
       "      <td>NaN</td>\n",
       "      <td>1993</td>\n",
       "      <td>manual</td>\n",
       "      <td>0</td>\n",
       "      <td>golf</td>\n",
       "      <td>150000</td>\n",
       "      <td>0</td>\n",
       "      <td>petrol</td>\n",
       "      <td>volkswagen</td>\n",
       "      <td>NaN</td>\n",
       "      <td>24/03/2016 00:00</td>\n",
       "      <td>0</td>\n",
       "      <td>70435</td>\n",
       "      <td>07/04/2016 03:16</td>\n",
       "    </tr>\n",
       "    <tr>\n",
       "      <td>1</td>\n",
       "      <td>24/03/2016 10:58</td>\n",
       "      <td>18300</td>\n",
       "      <td>coupe</td>\n",
       "      <td>2011</td>\n",
       "      <td>manual</td>\n",
       "      <td>190</td>\n",
       "      <td>NaN</td>\n",
       "      <td>125000</td>\n",
       "      <td>5</td>\n",
       "      <td>gasoline</td>\n",
       "      <td>audi</td>\n",
       "      <td>yes</td>\n",
       "      <td>24/03/2016 00:00</td>\n",
       "      <td>0</td>\n",
       "      <td>66954</td>\n",
       "      <td>07/04/2016 01:46</td>\n",
       "    </tr>\n",
       "    <tr>\n",
       "      <td>2</td>\n",
       "      <td>14/03/2016 12:52</td>\n",
       "      <td>9800</td>\n",
       "      <td>suv</td>\n",
       "      <td>2004</td>\n",
       "      <td>auto</td>\n",
       "      <td>163</td>\n",
       "      <td>grand</td>\n",
       "      <td>125000</td>\n",
       "      <td>8</td>\n",
       "      <td>gasoline</td>\n",
       "      <td>jeep</td>\n",
       "      <td>NaN</td>\n",
       "      <td>14/03/2016 00:00</td>\n",
       "      <td>0</td>\n",
       "      <td>90480</td>\n",
       "      <td>05/04/2016 12:47</td>\n",
       "    </tr>\n",
       "    <tr>\n",
       "      <td>3</td>\n",
       "      <td>17/03/2016 16:54</td>\n",
       "      <td>1500</td>\n",
       "      <td>small</td>\n",
       "      <td>2001</td>\n",
       "      <td>manual</td>\n",
       "      <td>75</td>\n",
       "      <td>golf</td>\n",
       "      <td>150000</td>\n",
       "      <td>6</td>\n",
       "      <td>petrol</td>\n",
       "      <td>volkswagen</td>\n",
       "      <td>no</td>\n",
       "      <td>17/03/2016 00:00</td>\n",
       "      <td>0</td>\n",
       "      <td>91074</td>\n",
       "      <td>17/03/2016 17:40</td>\n",
       "    </tr>\n",
       "    <tr>\n",
       "      <td>4</td>\n",
       "      <td>31/03/2016 17:25</td>\n",
       "      <td>3600</td>\n",
       "      <td>small</td>\n",
       "      <td>2008</td>\n",
       "      <td>manual</td>\n",
       "      <td>69</td>\n",
       "      <td>fabia</td>\n",
       "      <td>90000</td>\n",
       "      <td>7</td>\n",
       "      <td>gasoline</td>\n",
       "      <td>skoda</td>\n",
       "      <td>no</td>\n",
       "      <td>31/03/2016 00:00</td>\n",
       "      <td>0</td>\n",
       "      <td>60437</td>\n",
       "      <td>06/04/2016 10:17</td>\n",
       "    </tr>\n",
       "  </tbody>\n",
       "</table>\n",
       "</div>"
      ],
      "text/plain": [
       "        DateCrawled  Price VehicleType  RegistrationYear Gearbox  Power  \\\n",
       "0  24/03/2016 11:52    480         NaN              1993  manual      0   \n",
       "1  24/03/2016 10:58  18300       coupe              2011  manual    190   \n",
       "2  14/03/2016 12:52   9800         suv              2004    auto    163   \n",
       "3  17/03/2016 16:54   1500       small              2001  manual     75   \n",
       "4  31/03/2016 17:25   3600       small              2008  manual     69   \n",
       "\n",
       "   Model  Mileage  RegistrationMonth  FuelType       Brand NotRepaired  \\\n",
       "0   golf   150000                  0    petrol  volkswagen         NaN   \n",
       "1    NaN   125000                  5  gasoline        audi         yes   \n",
       "2  grand   125000                  8  gasoline        jeep         NaN   \n",
       "3   golf   150000                  6    petrol  volkswagen          no   \n",
       "4  fabia    90000                  7  gasoline       skoda          no   \n",
       "\n",
       "        DateCreated  NumberOfPictures  PostalCode          LastSeen  \n",
       "0  24/03/2016 00:00                 0       70435  07/04/2016 03:16  \n",
       "1  24/03/2016 00:00                 0       66954  07/04/2016 01:46  \n",
       "2  14/03/2016 00:00                 0       90480  05/04/2016 12:47  \n",
       "3  17/03/2016 00:00                 0       91074  17/03/2016 17:40  \n",
       "4  31/03/2016 00:00                 0       60437  06/04/2016 10:17  "
      ]
     },
     "metadata": {},
     "output_type": "display_data"
    },
    {
     "name": "stdout",
     "output_type": "stream",
     "text": [
      "<class 'pandas.core.frame.DataFrame'>\n",
      "RangeIndex: 354369 entries, 0 to 354368\n",
      "Data columns (total 16 columns):\n",
      "DateCrawled          354369 non-null object\n",
      "Price                354369 non-null int64\n",
      "VehicleType          316879 non-null object\n",
      "RegistrationYear     354369 non-null int64\n",
      "Gearbox              334536 non-null object\n",
      "Power                354369 non-null int64\n",
      "Model                334664 non-null object\n",
      "Mileage              354369 non-null int64\n",
      "RegistrationMonth    354369 non-null int64\n",
      "FuelType             321474 non-null object\n",
      "Brand                354369 non-null object\n",
      "NotRepaired          283215 non-null object\n",
      "DateCreated          354369 non-null object\n",
      "NumberOfPictures     354369 non-null int64\n",
      "PostalCode           354369 non-null int64\n",
      "LastSeen             354369 non-null object\n",
      "dtypes: int64(7), object(9)\n",
      "memory usage: 43.3+ MB\n",
      "Number of duplicated rows: 262\n"
     ]
    }
   ],
   "source": [
    "df = pd.read_csv('/datasets/car_data.csv')\n",
    "display(df.head())\n",
    "df.info()\n",
    "df.describe()\n",
    "print(\"Number of duplicated rows:\",df.duplicated().sum())"
   ]
  },
  {
   "cell_type": "code",
   "execution_count": 64,
   "metadata": {},
   "outputs": [
    {
     "name": "stderr",
     "output_type": "stream",
     "text": [
      "/opt/conda/lib/python3.7/site-packages/ipykernel_launcher.py:6: UserWarning: To output multiple subplots, the figure containing the passed axes is being cleared\n",
      "  \n"
     ]
    },
    {
     "data": {
      "image/png": "[encoded data removed]",
      "text/plain": [
       "<Figure size 720x720 with 9 Axes>"
      ]
     },
     "metadata": {
      "needs_background": "light"
     },
     "output_type": "display_data"
    }
   ],
   "source": [
    "def print_graphs(df):\n",
    "    df = df\n",
    "    temp_raw_data=df.copy()\n",
    "    fig = plt.figure(figsize = (10,10))\n",
    "    ax = fig.gca()\n",
    "    temp_raw_data.hist(ax = ax)\n",
    "    fig = ax.get_figure()\n",
    "\n",
    "print_graphs(df)\n"
   ]
  },
  {
   "cell_type": "code",
   "execution_count": 65,
   "metadata": {},
   "outputs": [
    {
     "name": "stdout",
     "output_type": "stream",
     "text": [
      "0        10772\n",
      "500       5670\n",
      "1500      5394\n",
      "1000      4649\n",
      "1200      4594\n",
      "         ...  \n",
      "13440        1\n",
      "1414         1\n",
      "8069         1\n",
      "10370        1\n",
      "384          1\n",
      "Name: Price, Length: 3731, dtype: int64\n",
      "no     247161\n",
      "yes     36054\n",
      "Name: NotRepaired, dtype: int64\n",
      "0        40225\n",
      "75       24023\n",
      "60       15897\n",
      "150      14590\n",
      "101      13298\n",
      "         ...  \n",
      "16311        1\n",
      "1360         1\n",
      "1968         1\n",
      "6226         1\n",
      "6006         1\n",
      "Name: Power, Length: 712, dtype: int64\n",
      "0     37352\n",
      "3     34373\n",
      "6     31508\n",
      "4     29270\n",
      "5     29153\n",
      "7     27213\n",
      "10    26099\n",
      "12    24289\n",
      "11    24186\n",
      "9     23813\n",
      "1     23219\n",
      "8     22627\n",
      "2     21267\n",
      "Name: RegistrationMonth, dtype: int64\n",
      "volkswagen        77013\n",
      "opel              39931\n",
      "bmw               36914\n",
      "mercedes_benz     32046\n",
      "audi              29456\n",
      "ford              25179\n",
      "renault           17927\n",
      "peugeot           10998\n",
      "fiat               9643\n",
      "seat               6907\n",
      "mazda              5615\n",
      "skoda              5500\n",
      "smart              5246\n",
      "citroen            5148\n",
      "nissan             4941\n",
      "toyota             4606\n",
      "hyundai            3587\n",
      "sonstige_autos     3374\n",
      "volvo              3210\n",
      "mini               3202\n",
      "mitsubishi         3022\n",
      "honda              2817\n",
      "kia                2465\n",
      "suzuki             2323\n",
      "alfa_romeo         2314\n",
      "chevrolet          1754\n",
      "chrysler           1439\n",
      "dacia               900\n",
      "daihatsu            806\n",
      "subaru              762\n",
      "porsche             758\n",
      "jeep                677\n",
      "trabant             589\n",
      "land_rover          545\n",
      "daewoo              542\n",
      "saab                526\n",
      "jaguar              505\n",
      "rover               486\n",
      "lancia              471\n",
      "lada                225\n",
      "Name: Brand, dtype: int64\n",
      "[1993 2011 2004 2001 2008 1995 1980 2014 1998 2005 1910 2016 2007 2009\n",
      " 2002 2018 1997 1990 2017 1981 2003 1994 1991 1984 2006 1999 2012 2010\n",
      " 2000 1992 2013 1996 1985 1989 2015 1982 1976 1983 1973 1111 1969 1971\n",
      " 1987 1986 1988 1970 1965 1945 1925 1974 1979 1955 1978 1972 1968 1977\n",
      " 1961 1960 1966 1975 1963 1964 5000 1954 1958 1967 1959 9999 1956 3200\n",
      " 1000 1941 8888 1500 2200 4100 1962 1929 1957 1940 3000 2066 1949 2019\n",
      " 1937 1951 1800 1953 1234 8000 5300 9000 2900 6000 5900 5911 1933 1400\n",
      " 1950 4000 1948 1952 1200 8500 1932 1255 3700 3800 4800 1942 7000 1935\n",
      " 1936 6500 1923 2290 2500 1930 1001 9450 1944 1943 1934 1938 1688 2800\n",
      " 1253 1928 1919 5555 5600 1600 2222 1039 9996 1300 8455 1931 1915 4500\n",
      " 1920 1602 7800 9229 1947 1927 7100 8200 1946 7500 3500]\n"
     ]
    }
   ],
   "source": [
    "#checking rare or important values\n",
    "print(df['Price'].value_counts())\n",
    "print(df['NotRepaired'].value_counts())\n",
    "print(df['Power'].value_counts())\n",
    "print(df['RegistrationMonth'].value_counts())\n",
    "print(df['Brand'].value_counts())\n",
    "print(df['RegistrationYear'].unique())"
   ]
  },
  {
   "cell_type": "code",
   "execution_count": 66,
   "metadata": {},
   "outputs": [
    {
     "name": "stdout",
     "output_type": "stream",
     "text": [
      "[nan 'coupe' 'suv' 'small' 'sedan' 'convertible' 'bus' 'wagon' 'other']\n",
      "['manual' 'auto' nan]\n",
      "['golf' nan 'grand' 'fabia' '3er' '2_reihe' 'other' 'c_max' '3_reihe'\n",
      " 'passat' 'navara' 'ka' 'polo' 'twingo' 'a_klasse' 'scirocco' '5er'\n",
      " 'meriva' 'arosa' 'c4' 'civic' 'transporter' 'punto' 'e_klasse' 'clio'\n",
      " 'kadett' 'kangoo' 'corsa' 'one' 'fortwo' '1er' 'b_klasse' 'signum'\n",
      " 'astra' 'a8' 'jetta' 'fiesta' 'c_klasse' 'micra' 'vito' 'sprinter' '156'\n",
      " 'escort' 'forester' 'xc_reihe' 'scenic' 'a4' 'a1' 'insignia' 'combo'\n",
      " 'focus' 'tt' 'a6' 'jazz' 'omega' 'slk' '7er' '80' '147' '100' 'z_reihe'\n",
      " 'sportage' 'sorento' 'v40' 'ibiza' 'mustang' 'eos' 'touran' 'getz' 'a3'\n",
      " 'almera' 'megane' 'lupo' 'r19' 'zafira' 'caddy' 'mondeo' 'cordoba' 'colt'\n",
      " 'impreza' 'vectra' 'berlingo' 'tiguan' 'i_reihe' 'espace' 'sharan'\n",
      " '6_reihe' 'panda' 'up' 'seicento' 'ceed' '5_reihe' 'yeti' 'octavia' 'mii'\n",
      " 'rx_reihe' '6er' 'modus' 'fox' 'matiz' 'beetle' 'c1' 'rio' 'touareg'\n",
      " 'logan' 'spider' 'cuore' 's_max' 'a2' 'galaxy' 'c3' 'viano' 's_klasse'\n",
      " '1_reihe' 'avensis' 'roomster' 'sl' 'kaefer' 'santa' 'cooper' 'leon'\n",
      " '4_reihe' 'a5' '500' 'laguna' 'ptcruiser' 'clk' 'primera' 'x_reihe'\n",
      " 'exeo' '159' 'transit' 'juke' 'qashqai' 'carisma' 'accord' 'corolla'\n",
      " 'lanos' 'phaeton' 'verso' 'swift' 'rav' 'picanto' 'boxster' 'kalos'\n",
      " 'superb' 'stilo' 'alhambra' 'mx_reihe' 'roadster' 'ypsilon' 'cayenne'\n",
      " 'galant' 'justy' '90' 'sirion' 'crossfire' 'agila' 'duster' 'cr_reihe'\n",
      " 'v50' 'c_reihe' 'v_klasse' 'm_klasse' 'yaris' 'c5' 'aygo' 'cc' 'carnival'\n",
      " 'fusion' '911' 'bora' 'forfour' 'm_reihe' 'cl' 'tigra' '300c' 'spark'\n",
      " 'v70' 'kuga' 'x_type' 'ducato' 's_type' 'x_trail' 'toledo' 'altea'\n",
      " 'voyager' 'calibra' 'bravo' 'antara' 'tucson' 'citigo' 'jimny' 'wrangler'\n",
      " 'lybra' 'q7' 'lancer' 'captiva' 'c2' 'discovery' 'freelander' 'sandero'\n",
      " 'note' '900' 'cherokee' 'clubman' 'samara' 'defender' '601' 'cx_reihe'\n",
      " 'legacy' 'pajero' 'auris' 'niva' 's60' 'nubira' 'vivaro' 'g_klasse'\n",
      " 'lodgy' '850' 'range_rover' 'q3' 'serie_2' 'glk' 'charade' 'croma'\n",
      " 'outlander' 'doblo' 'musa' 'move' '9000' 'v60' '145' 'aveo' '200' 'b_max'\n",
      " 'range_rover_sport' 'terios' 'rangerover' 'q5' 'range_rover_evoque'\n",
      " 'materia' 'delta' 'gl' 'kalina' 'amarok' 'elefantino' 'i3' 'kappa'\n",
      " 'serie_3' 'serie_1']\n",
      "['petrol' 'gasoline' nan 'lpg' 'other' 'hybrid' 'cng' 'electric']\n",
      "[nan 'yes' 'no']\n"
     ]
    }
   ],
   "source": [
    "#checking object uniqu values\n",
    "print(df['VehicleType'].unique())\n",
    "print(df['Gearbox'].unique())\n",
    "print(df['Model'].unique())\n",
    "print(df['FuelType'].unique())\n",
    "print(df['NotRepaired'].unique())"
   ]
  },
  {
   "cell_type": "markdown",
   "metadata": {},
   "source": [
    "### First Conclusion\n",
    "1. We have Nan variables at: VehicleType, Model, FuelType, NotRepaired. The data is big enough an we can hadle without them.\n",
    "2. Date, DateCreated and LastSeen are as type object instead of date.\n",
    "3. Number of pictures is all-column of zeros.\n",
    "4. Postal code seems not relevant, only if it is separated by rigions.\n",
    "5. Power should not be 0. Only 10% of the observation had 0 power. We can't drop it, but fill with average or ffill.\n",
    "6. Registration month may have 0, of unknown information. We will make the nan and drop them.\n",
    "7. Registration year should be between 1920 and 2020.\n",
    "8. The model has lots of unique values, and it will affect our time running model. We will drop it."
   ]
  },
  {
   "cell_type": "markdown",
   "metadata": {},
   "source": [
    "## Preprocess of the data"
   ]
  },
  {
   "cell_type": "code",
   "execution_count": 67,
   "metadata": {},
   "outputs": [
    {
     "data": {
      "text/html": [
       "<div>\n",
       "<style scoped>\n",
       "    .dataframe tbody tr th:only-of-type {\n",
       "        vertical-align: middle;\n",
       "    }\n",
       "\n",
       "    .dataframe tbody tr th {\n",
       "        vertical-align: top;\n",
       "    }\n",
       "\n",
       "    .dataframe thead th {\n",
       "        text-align: right;\n",
       "    }\n",
       "</style>\n",
       "<table border=\"1\" class=\"dataframe\">\n",
       "  <thead>\n",
       "    <tr style=\"text-align: right;\">\n",
       "      <th></th>\n",
       "      <th>Price</th>\n",
       "      <th>RegistrationYear</th>\n",
       "      <th>Power</th>\n",
       "      <th>Mileage</th>\n",
       "      <th>RegistrationMonth</th>\n",
       "    </tr>\n",
       "  </thead>\n",
       "  <tbody>\n",
       "    <tr>\n",
       "      <td>count</td>\n",
       "      <td>289426.000000</td>\n",
       "      <td>289426.000000</td>\n",
       "      <td>289426.000000</td>\n",
       "      <td>289426.000000</td>\n",
       "      <td>289426.000000</td>\n",
       "    </tr>\n",
       "    <tr>\n",
       "      <td>mean</td>\n",
       "      <td>4878.846683</td>\n",
       "      <td>2003.172037</td>\n",
       "      <td>117.512003</td>\n",
       "      <td>128013.948298</td>\n",
       "      <td>6.382955</td>\n",
       "    </tr>\n",
       "    <tr>\n",
       "      <td>std</td>\n",
       "      <td>4641.188875</td>\n",
       "      <td>19.093342</td>\n",
       "      <td>171.417081</td>\n",
       "      <td>36916.159639</td>\n",
       "      <td>3.349253</td>\n",
       "    </tr>\n",
       "    <tr>\n",
       "      <td>min</td>\n",
       "      <td>0.000000</td>\n",
       "      <td>1000.000000</td>\n",
       "      <td>0.000000</td>\n",
       "      <td>5000.000000</td>\n",
       "      <td>1.000000</td>\n",
       "    </tr>\n",
       "    <tr>\n",
       "      <td>25%</td>\n",
       "      <td>1350.000000</td>\n",
       "      <td>1999.000000</td>\n",
       "      <td>75.000000</td>\n",
       "      <td>125000.000000</td>\n",
       "      <td>4.000000</td>\n",
       "    </tr>\n",
       "    <tr>\n",
       "      <td>50%</td>\n",
       "      <td>3200.000000</td>\n",
       "      <td>2003.000000</td>\n",
       "      <td>109.000000</td>\n",
       "      <td>150000.000000</td>\n",
       "      <td>6.000000</td>\n",
       "    </tr>\n",
       "    <tr>\n",
       "      <td>75%</td>\n",
       "      <td>7000.000000</td>\n",
       "      <td>2007.000000</td>\n",
       "      <td>147.000000</td>\n",
       "      <td>150000.000000</td>\n",
       "      <td>9.000000</td>\n",
       "    </tr>\n",
       "    <tr>\n",
       "      <td>max</td>\n",
       "      <td>20000.000000</td>\n",
       "      <td>9000.000000</td>\n",
       "      <td>20000.000000</td>\n",
       "      <td>150000.000000</td>\n",
       "      <td>12.000000</td>\n",
       "    </tr>\n",
       "  </tbody>\n",
       "</table>\n",
       "</div>"
      ],
      "text/plain": [
       "               Price  RegistrationYear          Power        Mileage  \\\n",
       "count  289426.000000     289426.000000  289426.000000  289426.000000   \n",
       "mean     4878.846683       2003.172037     117.512003  128013.948298   \n",
       "std      4641.188875         19.093342     171.417081   36916.159639   \n",
       "min         0.000000       1000.000000       0.000000    5000.000000   \n",
       "25%      1350.000000       1999.000000      75.000000  125000.000000   \n",
       "50%      3200.000000       2003.000000     109.000000  150000.000000   \n",
       "75%      7000.000000       2007.000000     147.000000  150000.000000   \n",
       "max     20000.000000       9000.000000   20000.000000  150000.000000   \n",
       "\n",
       "       RegistrationMonth  \n",
       "count      289426.000000  \n",
       "mean            6.382955  \n",
       "std             3.349253  \n",
       "min             1.000000  \n",
       "25%             4.000000  \n",
       "50%             6.000000  \n",
       "75%             9.000000  \n",
       "max            12.000000  "
      ]
     },
     "metadata": {},
     "output_type": "display_data"
    },
    {
     "data": {
      "text/html": [
       "<div>\n",
       "<style scoped>\n",
       "    .dataframe tbody tr th:only-of-type {\n",
       "        vertical-align: middle;\n",
       "    }\n",
       "\n",
       "    .dataframe tbody tr th {\n",
       "        vertical-align: top;\n",
       "    }\n",
       "\n",
       "    .dataframe thead th {\n",
       "        text-align: right;\n",
       "    }\n",
       "</style>\n",
       "<table border=\"1\" class=\"dataframe\">\n",
       "  <thead>\n",
       "    <tr style=\"text-align: right;\">\n",
       "      <th></th>\n",
       "      <th>DateCrawled</th>\n",
       "      <th>Price</th>\n",
       "      <th>VehicleType</th>\n",
       "      <th>RegistrationYear</th>\n",
       "      <th>Gearbox</th>\n",
       "      <th>Power</th>\n",
       "      <th>Mileage</th>\n",
       "      <th>RegistrationMonth</th>\n",
       "      <th>FuelType</th>\n",
       "      <th>Brand</th>\n",
       "      <th>NotRepaired</th>\n",
       "      <th>DateCreated</th>\n",
       "      <th>LastSeen</th>\n",
       "    </tr>\n",
       "  </thead>\n",
       "  <tbody>\n",
       "    <tr>\n",
       "      <td>1</td>\n",
       "      <td>2016-03-24 10:58:00</td>\n",
       "      <td>18300</td>\n",
       "      <td>coupe</td>\n",
       "      <td>2011</td>\n",
       "      <td>manual</td>\n",
       "      <td>190</td>\n",
       "      <td>125000</td>\n",
       "      <td>5.0</td>\n",
       "      <td>gasoline</td>\n",
       "      <td>audi</td>\n",
       "      <td>yes</td>\n",
       "      <td>2016-03-24</td>\n",
       "      <td>2016-04-07 01:46:00</td>\n",
       "    </tr>\n",
       "    <tr>\n",
       "      <td>2</td>\n",
       "      <td>2016-03-14 12:52:00</td>\n",
       "      <td>9800</td>\n",
       "      <td>suv</td>\n",
       "      <td>2004</td>\n",
       "      <td>auto</td>\n",
       "      <td>163</td>\n",
       "      <td>125000</td>\n",
       "      <td>8.0</td>\n",
       "      <td>gasoline</td>\n",
       "      <td>jeep</td>\n",
       "      <td>no</td>\n",
       "      <td>2016-03-14</td>\n",
       "      <td>2016-04-05 12:47:00</td>\n",
       "    </tr>\n",
       "    <tr>\n",
       "      <td>3</td>\n",
       "      <td>2016-03-17 16:54:00</td>\n",
       "      <td>1500</td>\n",
       "      <td>small</td>\n",
       "      <td>2001</td>\n",
       "      <td>manual</td>\n",
       "      <td>75</td>\n",
       "      <td>150000</td>\n",
       "      <td>6.0</td>\n",
       "      <td>petrol</td>\n",
       "      <td>volkswagen</td>\n",
       "      <td>no</td>\n",
       "      <td>2016-03-17</td>\n",
       "      <td>2016-03-17 17:40:00</td>\n",
       "    </tr>\n",
       "    <tr>\n",
       "      <td>4</td>\n",
       "      <td>2016-03-31 17:25:00</td>\n",
       "      <td>3600</td>\n",
       "      <td>small</td>\n",
       "      <td>2008</td>\n",
       "      <td>manual</td>\n",
       "      <td>69</td>\n",
       "      <td>90000</td>\n",
       "      <td>7.0</td>\n",
       "      <td>gasoline</td>\n",
       "      <td>skoda</td>\n",
       "      <td>no</td>\n",
       "      <td>2016-03-31</td>\n",
       "      <td>2016-04-06 10:17:00</td>\n",
       "    </tr>\n",
       "    <tr>\n",
       "      <td>5</td>\n",
       "      <td>2016-04-04 17:36:00</td>\n",
       "      <td>650</td>\n",
       "      <td>sedan</td>\n",
       "      <td>1995</td>\n",
       "      <td>manual</td>\n",
       "      <td>102</td>\n",
       "      <td>150000</td>\n",
       "      <td>10.0</td>\n",
       "      <td>petrol</td>\n",
       "      <td>bmw</td>\n",
       "      <td>yes</td>\n",
       "      <td>2016-04-04</td>\n",
       "      <td>2016-04-06 19:17:00</td>\n",
       "    </tr>\n",
       "  </tbody>\n",
       "</table>\n",
       "</div>"
      ],
      "text/plain": [
       "          DateCrawled  Price VehicleType  RegistrationYear Gearbox  Power  \\\n",
       "1 2016-03-24 10:58:00  18300       coupe              2011  manual    190   \n",
       "2 2016-03-14 12:52:00   9800         suv              2004    auto    163   \n",
       "3 2016-03-17 16:54:00   1500       small              2001  manual     75   \n",
       "4 2016-03-31 17:25:00   3600       small              2008  manual     69   \n",
       "5 2016-04-04 17:36:00    650       sedan              1995  manual    102   \n",
       "\n",
       "   Mileage  RegistrationMonth  FuelType       Brand NotRepaired DateCreated  \\\n",
       "1   125000                5.0  gasoline        audi         yes  2016-03-24   \n",
       "2   125000                8.0  gasoline        jeep          no  2016-03-14   \n",
       "3   150000                6.0    petrol  volkswagen          no  2016-03-17   \n",
       "4    90000                7.0  gasoline       skoda          no  2016-03-31   \n",
       "5   150000               10.0    petrol         bmw         yes  2016-04-04   \n",
       "\n",
       "             LastSeen  \n",
       "1 2016-04-07 01:46:00  \n",
       "2 2016-04-05 12:47:00  \n",
       "3 2016-03-17 17:40:00  \n",
       "4 2016-04-06 10:17:00  \n",
       "5 2016-04-06 19:17:00  "
      ]
     },
     "metadata": {},
     "output_type": "display_data"
    },
    {
     "name": "stdout",
     "output_type": "stream",
     "text": [
      "<class 'pandas.core.frame.DataFrame'>\n",
      "Int64Index: 289426 entries, 1 to 354368\n",
      "Data columns (total 13 columns):\n",
      "DateCrawled          289426 non-null datetime64[ns]\n",
      "Price                289426 non-null int64\n",
      "VehicleType          289426 non-null object\n",
      "RegistrationYear     289426 non-null int64\n",
      "Gearbox              289426 non-null object\n",
      "Power                289426 non-null int64\n",
      "Mileage              289426 non-null int64\n",
      "RegistrationMonth    289426 non-null float64\n",
      "FuelType             289426 non-null object\n",
      "Brand                289426 non-null object\n",
      "NotRepaired          289426 non-null object\n",
      "DateCreated          289426 non-null datetime64[ns]\n",
      "LastSeen             289426 non-null datetime64[ns]\n",
      "dtypes: datetime64[ns](3), float64(1), int64(4), object(5)\n",
      "memory usage: 30.9+ MB\n"
     ]
    }
   ],
   "source": [
    "#drop\n",
    "df = df.drop(columns=['PostalCode','NumberOfPictures','Model'], axis=1)\n",
    "# removing duplicated rows\n",
    "df.drop_duplicates(keep = False, inplace = True) \n",
    "#had a problem with one of the observarions, which had not filled up\n",
    "df['VehicleType'] = df['VehicleType'].fillna('small')  \n",
    "df['NotRepaired'] = df['NotRepaired'].fillna('no')\n",
    "#replace 0 with Nans in registration month and price since it makes\n",
    "df['RegistrationMonth'].replace(0, np.nan, inplace=True)\n",
    "#dates\n",
    "df['DateCrawled']= pd.to_datetime(df['DateCrawled'], format='%d/%m/%Y %H:%M')\n",
    "df['DateCreated']= pd.to_datetime(df['DateCreated'], format='%d/%m/%Y %H:%M')\n",
    "df['LastSeen']= pd.to_datetime(df['LastSeen'], format='%d/%m/%Y %H:%M')\n",
    "# drop nan\n",
    "df.dropna(inplace=True)\n",
    "\n",
    "display(df.describe())\n",
    "display(df.head())\n",
    "df.info()"
   ]
  },
  {
   "cell_type": "code",
   "execution_count": 68,
   "metadata": {},
   "outputs": [],
   "source": [
    "# Power without the zeros, and extreme numbers\n",
    "aa = df[df.Power != 0]\n",
    "aa2 = aa['Power']\n",
    "power_mean = (int(aa2.mean()))\n",
    "\n",
    "def Power_no_zero(row):\n",
    "    pw = row['Power']\n",
    "    if pw == 0 :\n",
    "        return power_mean\n",
    "    elif pw > 200:\n",
    "        return 200\n",
    "    return pw\n",
    "\n",
    "df['Power'] = df.apply(Power_no_zero, axis=1)"
   ]
  },
  {
   "cell_type": "code",
   "execution_count": 69,
   "metadata": {},
   "outputs": [],
   "source": [
    "# RegistrationYear between 1920-2020. Most values are 2000, thus, we gonna make all cars non identify over 2020 to 2000.\n",
    "\n",
    "def correct_year(row):\n",
    "    ye = row['RegistrationYear']\n",
    "    if ye <= 1920 :\n",
    "        return 1920\n",
    "    elif ye > 2020:\n",
    "        return 2000\n",
    "    return ye\n",
    "\n",
    "df['RegistrationYear'] = df.apply(correct_year, axis=1)"
   ]
  },
  {
   "cell_type": "code",
   "execution_count": 70,
   "metadata": {},
   "outputs": [
    {
     "data": {
      "text/html": [
       "<div>\n",
       "<style scoped>\n",
       "    .dataframe tbody tr th:only-of-type {\n",
       "        vertical-align: middle;\n",
       "    }\n",
       "\n",
       "    .dataframe tbody tr th {\n",
       "        vertical-align: top;\n",
       "    }\n",
       "\n",
       "    .dataframe thead th {\n",
       "        text-align: right;\n",
       "    }\n",
       "</style>\n",
       "<table border=\"1\" class=\"dataframe\">\n",
       "  <thead>\n",
       "    <tr style=\"text-align: right;\">\n",
       "      <th></th>\n",
       "      <th>Price</th>\n",
       "      <th>RegistrationYear</th>\n",
       "      <th>Power</th>\n",
       "      <th>Mileage</th>\n",
       "      <th>RegistrationMonth</th>\n",
       "    </tr>\n",
       "  </thead>\n",
       "  <tbody>\n",
       "    <tr>\n",
       "      <td>count</td>\n",
       "      <td>289426.000000</td>\n",
       "      <td>289426.000000</td>\n",
       "      <td>289426.000000</td>\n",
       "      <td>289426.000000</td>\n",
       "      <td>289426.000000</td>\n",
       "    </tr>\n",
       "    <tr>\n",
       "      <td>mean</td>\n",
       "      <td>4878.846683</td>\n",
       "      <td>2003.106773</td>\n",
       "      <td>118.444587</td>\n",
       "      <td>128013.948298</td>\n",
       "      <td>6.382955</td>\n",
       "    </tr>\n",
       "    <tr>\n",
       "      <td>std</td>\n",
       "      <td>4641.188875</td>\n",
       "      <td>6.745838</td>\n",
       "      <td>43.003382</td>\n",
       "      <td>36916.159639</td>\n",
       "      <td>3.349253</td>\n",
       "    </tr>\n",
       "    <tr>\n",
       "      <td>min</td>\n",
       "      <td>0.000000</td>\n",
       "      <td>1920.000000</td>\n",
       "      <td>1.000000</td>\n",
       "      <td>5000.000000</td>\n",
       "      <td>1.000000</td>\n",
       "    </tr>\n",
       "    <tr>\n",
       "      <td>25%</td>\n",
       "      <td>1350.000000</td>\n",
       "      <td>1999.000000</td>\n",
       "      <td>82.000000</td>\n",
       "      <td>125000.000000</td>\n",
       "      <td>4.000000</td>\n",
       "    </tr>\n",
       "    <tr>\n",
       "      <td>50%</td>\n",
       "      <td>3200.000000</td>\n",
       "      <td>2003.000000</td>\n",
       "      <td>116.000000</td>\n",
       "      <td>150000.000000</td>\n",
       "      <td>6.000000</td>\n",
       "    </tr>\n",
       "    <tr>\n",
       "      <td>75%</td>\n",
       "      <td>7000.000000</td>\n",
       "      <td>2007.000000</td>\n",
       "      <td>147.000000</td>\n",
       "      <td>150000.000000</td>\n",
       "      <td>9.000000</td>\n",
       "    </tr>\n",
       "    <tr>\n",
       "      <td>max</td>\n",
       "      <td>20000.000000</td>\n",
       "      <td>2019.000000</td>\n",
       "      <td>200.000000</td>\n",
       "      <td>150000.000000</td>\n",
       "      <td>12.000000</td>\n",
       "    </tr>\n",
       "  </tbody>\n",
       "</table>\n",
       "</div>"
      ],
      "text/plain": [
       "               Price  RegistrationYear          Power        Mileage  \\\n",
       "count  289426.000000     289426.000000  289426.000000  289426.000000   \n",
       "mean     4878.846683       2003.106773     118.444587  128013.948298   \n",
       "std      4641.188875          6.745838      43.003382   36916.159639   \n",
       "min         0.000000       1920.000000       1.000000    5000.000000   \n",
       "25%      1350.000000       1999.000000      82.000000  125000.000000   \n",
       "50%      3200.000000       2003.000000     116.000000  150000.000000   \n",
       "75%      7000.000000       2007.000000     147.000000  150000.000000   \n",
       "max     20000.000000       2019.000000     200.000000  150000.000000   \n",
       "\n",
       "       RegistrationMonth  \n",
       "count      289426.000000  \n",
       "mean            6.382955  \n",
       "std             3.349253  \n",
       "min             1.000000  \n",
       "25%             4.000000  \n",
       "50%             6.000000  \n",
       "75%             9.000000  \n",
       "max            12.000000  "
      ]
     },
     "metadata": {},
     "output_type": "display_data"
    },
    {
     "data": {
      "text/html": [
       "<div>\n",
       "<style scoped>\n",
       "    .dataframe tbody tr th:only-of-type {\n",
       "        vertical-align: middle;\n",
       "    }\n",
       "\n",
       "    .dataframe tbody tr th {\n",
       "        vertical-align: top;\n",
       "    }\n",
       "\n",
       "    .dataframe thead th {\n",
       "        text-align: right;\n",
       "    }\n",
       "</style>\n",
       "<table border=\"1\" class=\"dataframe\">\n",
       "  <thead>\n",
       "    <tr style=\"text-align: right;\">\n",
       "      <th></th>\n",
       "      <th>DateCrawled</th>\n",
       "      <th>Price</th>\n",
       "      <th>VehicleType</th>\n",
       "      <th>RegistrationYear</th>\n",
       "      <th>Gearbox</th>\n",
       "      <th>Power</th>\n",
       "      <th>Mileage</th>\n",
       "      <th>RegistrationMonth</th>\n",
       "      <th>FuelType</th>\n",
       "      <th>Brand</th>\n",
       "      <th>NotRepaired</th>\n",
       "      <th>DateCreated</th>\n",
       "      <th>LastSeen</th>\n",
       "    </tr>\n",
       "  </thead>\n",
       "  <tbody>\n",
       "    <tr>\n",
       "      <td>1</td>\n",
       "      <td>2016-03-24 10:58:00</td>\n",
       "      <td>18300</td>\n",
       "      <td>coupe</td>\n",
       "      <td>2011</td>\n",
       "      <td>manual</td>\n",
       "      <td>190</td>\n",
       "      <td>125000</td>\n",
       "      <td>5.0</td>\n",
       "      <td>gasoline</td>\n",
       "      <td>audi</td>\n",
       "      <td>yes</td>\n",
       "      <td>2016-03-24</td>\n",
       "      <td>2016-04-07 01:46:00</td>\n",
       "    </tr>\n",
       "    <tr>\n",
       "      <td>2</td>\n",
       "      <td>2016-03-14 12:52:00</td>\n",
       "      <td>9800</td>\n",
       "      <td>suv</td>\n",
       "      <td>2004</td>\n",
       "      <td>auto</td>\n",
       "      <td>163</td>\n",
       "      <td>125000</td>\n",
       "      <td>8.0</td>\n",
       "      <td>gasoline</td>\n",
       "      <td>jeep</td>\n",
       "      <td>no</td>\n",
       "      <td>2016-03-14</td>\n",
       "      <td>2016-04-05 12:47:00</td>\n",
       "    </tr>\n",
       "    <tr>\n",
       "      <td>3</td>\n",
       "      <td>2016-03-17 16:54:00</td>\n",
       "      <td>1500</td>\n",
       "      <td>small</td>\n",
       "      <td>2001</td>\n",
       "      <td>manual</td>\n",
       "      <td>75</td>\n",
       "      <td>150000</td>\n",
       "      <td>6.0</td>\n",
       "      <td>petrol</td>\n",
       "      <td>volkswagen</td>\n",
       "      <td>no</td>\n",
       "      <td>2016-03-17</td>\n",
       "      <td>2016-03-17 17:40:00</td>\n",
       "    </tr>\n",
       "    <tr>\n",
       "      <td>4</td>\n",
       "      <td>2016-03-31 17:25:00</td>\n",
       "      <td>3600</td>\n",
       "      <td>small</td>\n",
       "      <td>2008</td>\n",
       "      <td>manual</td>\n",
       "      <td>69</td>\n",
       "      <td>90000</td>\n",
       "      <td>7.0</td>\n",
       "      <td>gasoline</td>\n",
       "      <td>skoda</td>\n",
       "      <td>no</td>\n",
       "      <td>2016-03-31</td>\n",
       "      <td>2016-04-06 10:17:00</td>\n",
       "    </tr>\n",
       "    <tr>\n",
       "      <td>5</td>\n",
       "      <td>2016-04-04 17:36:00</td>\n",
       "      <td>650</td>\n",
       "      <td>sedan</td>\n",
       "      <td>1995</td>\n",
       "      <td>manual</td>\n",
       "      <td>102</td>\n",
       "      <td>150000</td>\n",
       "      <td>10.0</td>\n",
       "      <td>petrol</td>\n",
       "      <td>bmw</td>\n",
       "      <td>yes</td>\n",
       "      <td>2016-04-04</td>\n",
       "      <td>2016-04-06 19:17:00</td>\n",
       "    </tr>\n",
       "  </tbody>\n",
       "</table>\n",
       "</div>"
      ],
      "text/plain": [
       "          DateCrawled  Price VehicleType  RegistrationYear Gearbox  Power  \\\n",
       "1 2016-03-24 10:58:00  18300       coupe              2011  manual    190   \n",
       "2 2016-03-14 12:52:00   9800         suv              2004    auto    163   \n",
       "3 2016-03-17 16:54:00   1500       small              2001  manual     75   \n",
       "4 2016-03-31 17:25:00   3600       small              2008  manual     69   \n",
       "5 2016-04-04 17:36:00    650       sedan              1995  manual    102   \n",
       "\n",
       "   Mileage  RegistrationMonth  FuelType       Brand NotRepaired DateCreated  \\\n",
       "1   125000                5.0  gasoline        audi         yes  2016-03-24   \n",
       "2   125000                8.0  gasoline        jeep          no  2016-03-14   \n",
       "3   150000                6.0    petrol  volkswagen          no  2016-03-17   \n",
       "4    90000                7.0  gasoline       skoda          no  2016-03-31   \n",
       "5   150000               10.0    petrol         bmw         yes  2016-04-04   \n",
       "\n",
       "             LastSeen  \n",
       "1 2016-04-07 01:46:00  \n",
       "2 2016-04-05 12:47:00  \n",
       "3 2016-03-17 17:40:00  \n",
       "4 2016-04-06 10:17:00  \n",
       "5 2016-04-06 19:17:00  "
      ]
     },
     "metadata": {},
     "output_type": "display_data"
    },
    {
     "name": "stdout",
     "output_type": "stream",
     "text": [
      "<class 'pandas.core.frame.DataFrame'>\n",
      "Int64Index: 289426 entries, 1 to 354368\n",
      "Data columns (total 13 columns):\n",
      "DateCrawled          289426 non-null datetime64[ns]\n",
      "Price                289426 non-null int64\n",
      "VehicleType          289426 non-null object\n",
      "RegistrationYear     289426 non-null int64\n",
      "Gearbox              289426 non-null object\n",
      "Power                289426 non-null int64\n",
      "Mileage              289426 non-null int64\n",
      "RegistrationMonth    289426 non-null float64\n",
      "FuelType             289426 non-null object\n",
      "Brand                289426 non-null object\n",
      "NotRepaired          289426 non-null object\n",
      "DateCreated          289426 non-null datetime64[ns]\n",
      "LastSeen             289426 non-null datetime64[ns]\n",
      "dtypes: datetime64[ns](3), float64(1), int64(4), object(5)\n",
      "memory usage: 30.9+ MB\n"
     ]
    },
    {
     "name": "stderr",
     "output_type": "stream",
     "text": [
      "/opt/conda/lib/python3.7/site-packages/ipykernel_launcher.py:6: UserWarning: To output multiple subplots, the figure containing the passed axes is being cleared\n",
      "  \n"
     ]
    },
    {
     "data": {
      "image/png": "[encoded data removed]",
      "text/plain": [
       "<Figure size 720x720 with 6 Axes>"
      ]
     },
     "metadata": {
      "needs_background": "light"
     },
     "output_type": "display_data"
    }
   ],
   "source": [
    "display(df.describe())\n",
    "display(df.head())\n",
    "df.info()\n",
    "print_graphs(df)"
   ]
  },
  {
   "cell_type": "code",
   "execution_count": 71,
   "metadata": {},
   "outputs": [
    {
     "data": {
      "text/plain": [
       "<matplotlib.axes._subplots.AxesSubplot at 0x7fe381fb5950>"
      ]
     },
     "execution_count": 71,
     "metadata": {},
     "output_type": "execute_result"
    },
    {
     "data": {
      "image/png": "[encoded data removed]",
      "text/plain": [
       "<Figure size 432x288 with 1 Axes>"
      ]
     },
     "metadata": {
      "needs_background": "light"
     },
     "output_type": "display_data"
    }
   ],
   "source": [
    "df.boxplot(rot=45)"
   ]
  },
  {
   "cell_type": "code",
   "execution_count": 29,
   "metadata": {},
   "outputs": [
    {
     "data": {
      "text/plain": [
       "array([[<matplotlib.axes._subplots.AxesSubplot object at 0x7fe383892b90>,\n",
       "        <matplotlib.axes._subplots.AxesSubplot object at 0x7fe382fbad50>,\n",
       "        <matplotlib.axes._subplots.AxesSubplot object at 0x7fe382ee3e50>,\n",
       "        <matplotlib.axes._subplots.AxesSubplot object at 0x7fe38395db50>,\n",
       "        <matplotlib.axes._subplots.AxesSubplot object at 0x7fe3847d3e90>],\n",
       "       [<matplotlib.axes._subplots.AxesSubplot object at 0x7fe38300ab90>,\n",
       "        <matplotlib.axes._subplots.AxesSubplot object at 0x7fe383a15fd0>,\n",
       "        <matplotlib.axes._subplots.AxesSubplot object at 0x7fe382dd2bd0>,\n",
       "        <matplotlib.axes._subplots.AxesSubplot object at 0x7fe382dfc710>,\n",
       "        <matplotlib.axes._subplots.AxesSubplot object at 0x7fe382a5b0d0>],\n",
       "       [<matplotlib.axes._subplots.AxesSubplot object at 0x7fe382396f50>,\n",
       "        <matplotlib.axes._subplots.AxesSubplot object at 0x7fe3839acc50>,\n",
       "        <matplotlib.axes._subplots.AxesSubplot object at 0x7fe382705f90>,\n",
       "        <matplotlib.axes._subplots.AxesSubplot object at 0x7fe384a30c90>,\n",
       "        <matplotlib.axes._subplots.AxesSubplot object at 0x7fe3838affd0>],\n",
       "       [<matplotlib.axes._subplots.AxesSubplot object at 0x7fe384625cd0>,\n",
       "        <matplotlib.axes._subplots.AxesSubplot object at 0x7fe38359e510>,\n",
       "        <matplotlib.axes._subplots.AxesSubplot object at 0x7fe3837bad10>,\n",
       "        <matplotlib.axes._subplots.AxesSubplot object at 0x7fe3833cf550>,\n",
       "        <matplotlib.axes._subplots.AxesSubplot object at 0x7fe382271d50>],\n",
       "       [<matplotlib.axes._subplots.AxesSubplot object at 0x7fe383230590>,\n",
       "        <matplotlib.axes._subplots.AxesSubplot object at 0x7fe382571d90>,\n",
       "        <matplotlib.axes._subplots.AxesSubplot object at 0x7fe383ca95d0>,\n",
       "        <matplotlib.axes._subplots.AxesSubplot object at 0x7fe382a2bdd0>,\n",
       "        <matplotlib.axes._subplots.AxesSubplot object at 0x7fe382f0a610>]],\n",
       "      dtype=object)"
      ]
     },
     "execution_count": 29,
     "metadata": {},
     "output_type": "execute_result"
    },
    {
     "data": {
      "image/png": "[encoded data removed]",
      "text/plain": [
       "<Figure size 648x648 with 25 Axes>"
      ]
     },
     "metadata": {
      "needs_background": "light"
     },
     "output_type": "display_data"
    }
   ],
   "source": [
    "for_plot = df.drop(columns=['DateCrawled', 'DateCreated', 'LastSeen','VehicleType',\n",
    "                            'Gearbox','Model','FuelType','Brand','NotRepaired'], axis=1)\n",
    "pd.plotting.scatter_matrix(for_plot, figsize=(9, 9))"
   ]
  },
  {
   "cell_type": "code",
   "execution_count": 72,
   "metadata": {},
   "outputs": [
    {
     "name": "stdout",
     "output_type": "stream",
     "text": [
      "--------------- DateCrawled ---------------\n",
      "count    289426.0\n",
      "mean       2016.0\n",
      "std           0.0\n",
      "min        2016.0\n",
      "25%        2016.0\n",
      "50%        2016.0\n",
      "75%        2016.0\n",
      "max        2016.0\n",
      "Name: year_of_crawled, dtype: float64\n",
      "--------------- DateCreated ---------------\n",
      "count    289426.000000\n",
      "mean       2015.999921\n",
      "std           0.008914\n",
      "min        2015.000000\n",
      "25%        2016.000000\n",
      "50%        2016.000000\n",
      "75%        2016.000000\n",
      "max        2016.000000\n",
      "Name: year_of_created, dtype: float64\n",
      "--------------- LastSeen ---------------\n",
      "count    289426.0\n",
      "mean       2016.0\n",
      "std           0.0\n",
      "min        2016.0\n",
      "25%        2016.0\n",
      "50%        2016.0\n",
      "75%        2016.0\n",
      "max        2016.0\n",
      "Name: year_of_lastSeen, dtype: float64\n"
     ]
    }
   ],
   "source": [
    "#checking if years are relevant on the dates columns\n",
    "print('--------------- DateCrawled ---------------')\n",
    "df['year_of_crawled'] = pd.DatetimeIndex(df['DateCrawled']).year\n",
    "df['year_of_crawled'] = df['year_of_crawled'].astype('Int32')\n",
    "print(df['year_of_crawled'].describe())\n",
    "\n",
    "print('--------------- DateCreated ---------------')\n",
    "df['year_of_created'] = pd.DatetimeIndex(df['DateCreated']).year\n",
    "df['year_of_created'] = df['year_of_created'].astype('Int32')\n",
    "print(df['year_of_created'].describe())\n",
    "\n",
    "print('--------------- LastSeen ---------------')\n",
    "df['year_of_lastSeen'] = pd.DatetimeIndex(df['LastSeen']).year\n",
    "df['year_of_lastSeen'] = df['year_of_lastSeen'].astype('Int32')\n",
    "print(df['year_of_lastSeen'].describe())"
   ]
  },
  {
   "cell_type": "code",
   "execution_count": 73,
   "metadata": {},
   "outputs": [],
   "source": [
    "# years seems irrelevant, we will drop them\n",
    "df = df.drop(columns=['year_of_crawled', 'year_of_created', 'year_of_lastSeen'])"
   ]
  },
  {
   "cell_type": "markdown",
   "metadata": {},
   "source": [
    "### Second Conclusion\n",
    "\n",
    "Dates seem not relevant, all have same year for the date it entered or viewed on the database, and month is not a parameter that is relevant for selling cars.\n",
    "\n",
    "'Mileage' feature has a left-tale, while the target, 'Price', is a right-taled parameter. This can cofuse very much the model trained. \n",
    "\n",
    "'Power' and 'RegistrationYear' are quite normalized.\n",
    "\n",
    "Objetc-type columns should turn to dummies.\n",
    "\n",
    "We found no special direct correlation between features and the target."
   ]
  },
  {
   "cell_type": "markdown",
   "metadata": {},
   "source": [
    "# 2. Model training"
   ]
  },
  {
   "cell_type": "code",
   "execution_count": 74,
   "metadata": {},
   "outputs": [],
   "source": [
    "df_dummies = pd.get_dummies(df, drop_first=True)"
   ]
  },
  {
   "cell_type": "markdown",
   "metadata": {},
   "source": [
    "### Preparing the data"
   ]
  },
  {
   "cell_type": "code",
   "execution_count": 75,
   "metadata": {},
   "outputs": [
    {
     "name": "stdout",
     "output_type": "stream",
     "text": [
      "Size of features to train: (162801, 58)\n",
      "Size of features to validate: (54268, 58)\n",
      "Size of features to test: (72357, 59)\n"
     ]
    }
   ],
   "source": [
    "target = df_dummies['Price']\n",
    "features = df_dummies.drop(columns=['Price','DateCrawled', 'DateCreated', 'LastSeen'], axis=1)\n",
    "features_1, features_test, target_1, target_test = train_test_split(\n",
    "    features, target, test_size=0.25, random_state=12345)\n",
    "features_train, features_valid, target_train, target_valid = train_test_split(\n",
    "    features_1, target_1, test_size=0.25, random_state=12345)\n",
    "\n",
    "features_1 = features_1.reset_index()\n",
    "features_test = features_test.reset_index()\n",
    "target_1 = target_1.reset_index()\n",
    "target_test = target_test.reset_index()\n",
    "\n",
    "print('Size of features to train:', features_train.shape)\n",
    "print('Size of features to validate:', features_valid.shape)\n",
    "print('Size of features to test:', features_test.shape)"
   ]
  },
  {
   "cell_type": "markdown",
   "metadata": {},
   "source": [
    "### Fast check for models\n",
    "#### Decision Tree Regressor"
   ]
  },
  {
   "cell_type": "code",
   "execution_count": 76,
   "metadata": {},
   "outputs": [
    {
     "name": "stdout",
     "output_type": "stream",
     "text": [
      "rmse: 2275.3628910463444\n",
      "mean: 4876.472306096297\n",
      "CPU times: user 2.09 s, sys: 43.7 ms, total: 2.14 s\n",
      "Wall time: 2.14 s\n"
     ]
    }
   ],
   "source": [
    "%%time\n",
    "model = DecisionTreeRegressor()\n",
    "model.fit(features_train,target_train)\n",
    "predicted_valid = model.predict(features_valid)\n",
    "rmse = mean_squared_error(target_valid, predicted_valid)**0.5\n",
    "print(\"rmse:\", rmse)\n",
    "print(\"mean:\", pd.Series(predicted_valid).mean())"
   ]
  },
  {
   "cell_type": "markdown",
   "metadata": {},
   "source": [
    "#### Random Forest Regressor"
   ]
  },
  {
   "cell_type": "code",
   "execution_count": 77,
   "metadata": {},
   "outputs": [
    {
     "name": "stdout",
     "output_type": "stream",
     "text": [
      "rmse: 1885.6187378145685\n",
      "mean: 4870.806909582806\n",
      "CPU times: user 13.6 s, sys: 71.1 ms, total: 13.6 s\n",
      "Wall time: 13.6 s\n"
     ]
    }
   ],
   "source": [
    "%%time\n",
    "model = RandomForestRegressor(n_estimators=10, random_state=12345)\n",
    "model.fit(features_train,target_train)\n",
    "predicted_valid = model.predict(features_valid)\n",
    "rmse = mean_squared_error(target_valid, predicted_valid)**0.5\n",
    "print(\"rmse:\", rmse)\n",
    "print(\"mean:\", pd.Series(predicted_valid).mean())"
   ]
  },
  {
   "cell_type": "markdown",
   "metadata": {},
   "source": [
    "#### LGBM Regressor"
   ]
  },
  {
   "cell_type": "code",
   "execution_count": 78,
   "metadata": {},
   "outputs": [
    {
     "name": "stdout",
     "output_type": "stream",
     "text": [
      "rmse: 1862.356020347257\n",
      "mean: 4858.994141511393\n",
      "CPU times: user 2.9 s, sys: 68 ms, total: 2.97 s\n",
      "Wall time: 2.97 s\n"
     ]
    }
   ],
   "source": [
    "%%time\n",
    "model = LGBMRegressor()\n",
    "model.fit(features_train,target_train)\n",
    "predicted_valid = model.predict(features_valid)\n",
    "rmse = mean_squared_error(target_valid, predicted_valid)**0.5\n",
    "print(\"rmse:\", rmse)\n",
    "print(\"mean:\", pd.Series(predicted_valid).mean())"
   ]
  },
  {
   "cell_type": "markdown",
   "metadata": {},
   "source": [
    "#### Cat Boost Regressor"
   ]
  },
  {
   "cell_type": "code",
   "execution_count": 94,
   "metadata": {},
   "outputs": [
    {
     "name": "stdout",
     "output_type": "stream",
     "text": [
      "rmse: 3342.9592246716466\n",
      "mean: 4873.479902991756\n",
      "CPU times: user 3.16 s, sys: 297 ms, total: 3.46 s\n",
      "Wall time: 7.12 s\n"
     ]
    }
   ],
   "source": [
    "%%time\n",
    "model = CatBoostRegressor(loss_function=\"RMSE\", iterations=20)\n",
    "model.fit(features_train, target_train, verbose=False)\n",
    "predicted_valid = model.predict(features_valid)\n",
    "rmse = mean_squared_error(target_valid, predicted_valid)**0.5\n",
    "print(\"rmse:\", rmse)\n",
    "print(\"mean:\", pd.Series(predicted_valid).mean())"
   ]
  },
  {
   "cell_type": "markdown",
   "metadata": {},
   "source": [
    "#### XGB Regressor"
   ]
  },
  {
   "cell_type": "code",
   "execution_count": 80,
   "metadata": {},
   "outputs": [
    {
     "name": "stderr",
     "output_type": "stream",
     "text": [
      "/opt/conda/lib/python3.7/site-packages/xgboost/core.py:587: FutureWarning: Series.base is deprecated and will be removed in a future version\n",
      "  if getattr(data, 'base', None) is not None and \\\n"
     ]
    },
    {
     "name": "stdout",
     "output_type": "stream",
     "text": [
      "[15:31:24] WARNING: /workspace/src/objective/regression_obj.cu:152: reg:linear is now deprecated in favor of reg:squarederror.\n",
      "rmse: 2070.8184356426427\n",
      "mean: 4859.4146\n",
      "CPU times: user 33.7 s, sys: 285 ms, total: 34 s\n",
      "Wall time: 34.5 s\n"
     ]
    }
   ],
   "source": [
    "%%time\n",
    "model = XGBRegressor()\n",
    "model.fit(features_train,target_train)\n",
    "predicted_valid = model.predict(features_valid)\n",
    "rmse = mean_squared_error(target_valid, predicted_valid)**0.5\n",
    "print(\"rmse:\", rmse)\n",
    "print(\"mean:\", pd.Series(predicted_valid).mean())"
   ]
  },
  {
   "cell_type": "markdown",
   "metadata": {},
   "source": [
    "### First impression\n",
    "Both LGBMRegressor and DecisionTreeRegressor where the fastest models, then CatBoostRegressor, RandomForestRegressor and finally XGBRegressor. Since its time, that is 1000% slower that LGBMRegressor, we would not continue to check them.\n",
    "\n",
    "All models have prety much the same average of target values, but LGBMRegressor and RandomForestRegressor models had much better RMSE value."
   ]
  },
  {
   "cell_type": "code",
   "execution_count": 91,
   "metadata": {},
   "outputs": [],
   "source": [
    "def cross_val_score_decisionTree_regressor (features1, target1, depth):\n",
    "    scores = []\n",
    "    sample_size = int(len(features1)/3)\n",
    "    for i in range(0, 3, 1):\n",
    "        valid_indexes = features1.iloc[i:i+sample_size].index\n",
    "        train_indexes = features1[~(features1.index.isin(valid_indexes))].index\n",
    "        features_train = features1.iloc[train_indexes]\n",
    "        features_valid = features1.iloc[valid_indexes]\n",
    "        target_train = target1.iloc[train_indexes]\n",
    "        target_valid = target1.iloc[valid_indexes]\n",
    "        \n",
    "        model = DecisionTreeRegressor(max_depth=depth,random_state=12345)\n",
    "        model = model.fit(features_train, target_train)\n",
    "        predicted_valid = model.predict(features_valid)\n",
    "        rmse = mean_squared_error(target_valid, predicted_valid)**0.5\n",
    "        scores.append(rmse)\n",
    "    return scores"
   ]
  },
  {
   "cell_type": "code",
   "execution_count": 92,
   "metadata": {},
   "outputs": [
    {
     "name": "stdout",
     "output_type": "stream",
     "text": [
      "Depth = 7 : DecisionTreeRegressor Average model RMSE score: 2870.733569985164\n",
      "----------------------------------------------\n",
      "Depth = 8 : DecisionTreeRegressor Average model RMSE score: 2581.653234290824\n",
      "----------------------------------------------\n",
      "Depth = 9 : DecisionTreeRegressor Average model RMSE score: 2369.3295638361797\n",
      "----------------------------------------------\n",
      "Depth = 10 : DecisionTreeRegressor Average model RMSE score: 2209.682420516879\n",
      "----------------------------------------------\n",
      "Depth = 11 : DecisionTreeRegressor Average model RMSE score: 2102.0527095631296\n",
      "----------------------------------------------\n",
      "Depth = 12 : DecisionTreeRegressor Average model RMSE score: 2074.4295510480038\n",
      "----------------------------------------------\n",
      "Depth = 13 : DecisionTreeRegressor Average model RMSE score: 2087.967694268355\n",
      "----------------------------------------------\n",
      "Depth = 14 : DecisionTreeRegressor Average model RMSE score: 2146.814871005447\n",
      "----------------------------------------------\n",
      "CPU times: user 37.5 s, sys: 848 ms, total: 38.4 s\n",
      "Wall time: 39 s\n"
     ]
    }
   ],
   "source": [
    "%%time\n",
    "for depth in range(7,15):\n",
    "    scores = cross_val_score_decisionTree_regressor (features_1, target_1,depth)\n",
    "    final_score = pd.Series(scores).mean()  \n",
    "    print(\"Depth =\", depth, \": \", end='')\n",
    "    print('DecisionTreeRegressor Average model RMSE score:', final_score)\n",
    "    print('----------------------------------------------')"
   ]
  },
  {
   "cell_type": "code",
   "execution_count": 107,
   "metadata": {},
   "outputs": [],
   "source": [
    "def cross_val_randomForest_regressor (features1, target1, estimators):\n",
    "    scores = []\n",
    "    sample_size = int(len(features1)/3)\n",
    "    for i in range(0, 3, 1):\n",
    "        valid_indexes = features1.iloc[i:i+sample_size].index\n",
    "        train_indexes = features1[~(features1.index.isin(valid_indexes))].index\n",
    "        features_train = features1.iloc[train_indexes]\n",
    "        features_valid = features1.iloc[valid_indexes]\n",
    "        target_train = target1.iloc[train_indexes]\n",
    "        target_valid = target1.iloc[valid_indexes]\n",
    "        \n",
    "        model = RandomForestRegressor(n_estimators=estimators, random_state=12345)\n",
    "        model = model.fit(features_train, target_train)\n",
    "        predicted_valid = model.predict(features_valid)\n",
    "        rmse = mean_squared_error(target_valid, predicted_valid)**0.5\n",
    "        scores.append(rmse)\n",
    "    return scores"
   ]
  },
  {
   "cell_type": "code",
   "execution_count": 101,
   "metadata": {},
   "outputs": [
    {
     "name": "stdout",
     "output_type": "stream",
     "text": [
      "Estimators = 10 : RandomForestRegressor Average model RMSE score: 1743.6230925263326\n",
      "----------------------------------------------\n",
      "Estimators = 20 : RandomForestRegressor Average model RMSE score: 1698.0317582518448\n",
      "----------------------------------------------\n",
      "Estimators = 30 : RandomForestRegressor Average model RMSE score: 1680.9292748571117\n",
      "----------------------------------------------\n",
      "Estimators = 40 : RandomForestRegressor Average model RMSE score: 1674.311269786661\n",
      "----------------------------------------------\n",
      "Estimators = 50 : RandomForestRegressor Average model RMSE score: 1669.3485432857826\n",
      "----------------------------------------------\n",
      "Estimators = 60 : RandomForestRegressor Average model RMSE score: 1666.5788781054962\n",
      "----------------------------------------------\n",
      "Estimators = 70 : RandomForestRegressor Average model RMSE score: 1664.1628737059764\n",
      "----------------------------------------------\n",
      "Estimators = 80 : RandomForestRegressor Average model RMSE score: 1661.8770878231364\n",
      "----------------------------------------------\n",
      "CPU times: user 31min 34s, sys: 3.26 s, total: 31min 38s\n",
      "Wall time: 32min 9s\n"
     ]
    }
   ],
   "source": [
    "%%time\n",
    "for estimators in range(10,81,10):\n",
    "    scores = cross_val_randomForest_regressor (features_1, target_1, estimators)\n",
    "    final_score = pd.Series(scores).mean()\n",
    "    print(\"Estimators =\", estimators, \": \", end='')\n",
    "    print('RandomForestRegressor Average model RMSE score:', final_score)\n",
    "    print('----------------------------------------------')"
   ]
  },
  {
   "cell_type": "code",
   "execution_count": 87,
   "metadata": {},
   "outputs": [],
   "source": [
    "def LGBM_regressor_func (features1, target1, estimators):\n",
    "    model = LGBMRegressor(n_estimators=estimators, random_state=12345)\n",
    "    model.fit(features_train,target_train)\n",
    "    predicted_valid = model.predict(features_valid)\n",
    "    rmse = mean_squared_error(target_valid, predicted_valid)**0.5\n",
    "    mean = pd.Series(predicted_valid).mean()\n",
    "    return rmse, mean"
   ]
  },
  {
   "cell_type": "code",
   "execution_count": 102,
   "metadata": {},
   "outputs": [
    {
     "name": "stdout",
     "output_type": "stream",
     "text": [
      "Estimators = 30 : LGBMRegressor Average model RMSE score: 2050.836728441111\n",
      "mean: 4860.436494096475\n",
      "----------------------------------------------\n",
      "Estimators = 40 : LGBMRegressor Average model RMSE score: 1974.5365997261556\n",
      "mean: 4859.142405207846\n",
      "----------------------------------------------\n",
      "Estimators = 50 : LGBMRegressor Average model RMSE score: 1934.6896071628066\n",
      "mean: 4859.242849111984\n",
      "----------------------------------------------\n",
      "Estimators = 60 : LGBMRegressor Average model RMSE score: 1909.8847462562082\n",
      "mean: 4858.217163073886\n",
      "----------------------------------------------\n",
      "Estimators = 70 : LGBMRegressor Average model RMSE score: 1892.9102869573794\n",
      "mean: 4858.248044465211\n",
      "----------------------------------------------\n",
      "Estimators = 80 : LGBMRegressor Average model RMSE score: 1879.2953800458185\n",
      "mean: 4858.46809256115\n",
      "----------------------------------------------\n",
      "Estimators = 90 : LGBMRegressor Average model RMSE score: 1870.4146838815366\n",
      "mean: 4859.0550375468965\n",
      "----------------------------------------------\n",
      "Estimators = 100 : LGBMRegressor Average model RMSE score: 1862.356020347257\n",
      "mean: 4858.994141511393\n",
      "----------------------------------------------\n",
      "Estimators = 110 : LGBMRegressor Average model RMSE score: 1854.667123363317\n",
      "mean: 4858.989148801047\n",
      "----------------------------------------------\n",
      "Estimators = 120 : LGBMRegressor Average model RMSE score: 1848.8297695788392\n",
      "mean: 4858.920809551125\n",
      "----------------------------------------------\n",
      "Estimators = 130 : LGBMRegressor Average model RMSE score: 1843.981548386038\n",
      "mean: 4859.003992257489\n",
      "----------------------------------------------\n",
      "CPU times: user 24.7 s, sys: 140 ms, total: 24.9 s\n",
      "Wall time: 25 s\n"
     ]
    }
   ],
   "source": [
    "%%time\n",
    "for estimators in range(30,131,10):\n",
    "    rmse,mean = LGBM_regressor_func (features_1, target_1,estimators)\n",
    "    print(\"Estimators =\", estimators, \": \", end='')\n",
    "    print('LGBMRegressor Average model RMSE score:', rmse)\n",
    "    print(\"mean:\", mean)\n",
    "    print('----------------------------------------------')"
   ]
  },
  {
   "cell_type": "markdown",
   "metadata": {},
   "source": [
    "Some models took lot of time to fit. Thus, cross-validation and parameter tunning were almost impossible for those models but LGBMRegressor and DecisionTreeRegressor. RandomForestRegressor tunning show us that for more than 30 estimators we get the best value for rmse, but took it too much time.\n",
    "\n",
    "The default parameters for LGBMRegressor had the best result for it, and its running was much quicker than the RandomForestRegressor.\n",
    "\n",
    "We will finally check between LGBMRegressor default parameters, RandomForestRegressor with 30 estimators and DecisionTreeRegressor depth of 12."
   ]
  },
  {
   "cell_type": "markdown",
   "metadata": {},
   "source": [
    "# 3. Model analysis"
   ]
  },
  {
   "cell_type": "markdown",
   "metadata": {},
   "source": [
    "Some models took lot of time to fit. Thus, cross-validation and parameter tunning were almost impossible for those models but LGBMRegressor and DecisionTreeRegressor. RandomForestRegressor tunning show us that for more than 30 estimators we get the best value for rmse, but took it too much time.\n",
    "\n",
    "The default parameters for LGBMRegressor had the best result for it, and its running was much quicker than the RandomForestRegressor.\n"
   ]
  },
  {
   "cell_type": "code",
   "execution_count": 111,
   "metadata": {},
   "outputs": [],
   "source": [
    "target = df_dummies['Price']\n",
    "features = df_dummies.drop(columns=['Price','DateCrawled', 'DateCreated', 'LastSeen'], axis=1)\n",
    "features_1, features_test, target_1, target_test = train_test_split(\n",
    "    features, target, test_size=0.25, random_state=12345)"
   ]
  },
  {
   "cell_type": "code",
   "execution_count": 112,
   "metadata": {},
   "outputs": [
    {
     "name": "stdout",
     "output_type": "stream",
     "text": [
      "Final Decision Tree Regressor model rmse: 2054.7986423851175\n",
      "Final Decision Tree Regressor model mean: 4885.452260493594\n",
      "CPU times: user 1.4 s, sys: 48.1 ms, total: 1.44 s\n",
      "Wall time: 1.45 s\n"
     ]
    }
   ],
   "source": [
    "%%time\n",
    "model = DecisionTreeRegressor(max_depth=12,random_state=12345)\n",
    "model.fit(features_1,target_1)\n",
    "predicted_test = model.predict(features_test)\n",
    "rmse = mean_squared_error(target_test, predicted_test)**0.5\n",
    "print(\"Final Decision Tree Regressor model rmse:\", rmse)\n",
    "print(\"Final Decision Tree Regressor model mean:\", pd.Series(predicted_test).mean())"
   ]
  },
  {
   "cell_type": "code",
   "execution_count": 113,
   "metadata": {},
   "outputs": [
    {
     "name": "stdout",
     "output_type": "stream",
     "text": [
      "Final Random Forest Regressor model rmse: 1819.5745529639519\n",
      "Final Random Forest Regressor model mean: 4906.81866205276\n",
      "CPU times: user 49.6 s, sys: 444 ms, total: 50.1 s\n",
      "Wall time: 50.2 s\n"
     ]
    }
   ],
   "source": [
    "%%time\n",
    "model = RandomForestRegressor(n_estimators=30, random_state=12345)\n",
    "model.fit(features_1,target_1)\n",
    "predicted_test = model.predict(features_test)\n",
    "rmse = mean_squared_error(target_test, predicted_test)**0.5\n",
    "print(\"Final Random Forest Regressor model rmse:\", rmse)\n",
    "print(\"Final Random Forest Regressor model mean:\", pd.Series(predicted_test).mean())"
   ]
  },
  {
   "cell_type": "code",
   "execution_count": 114,
   "metadata": {},
   "outputs": [
    {
     "name": "stdout",
     "output_type": "stream",
     "text": [
      "Final LGBM Regressor model rmse: 1867.534779164259\n",
      "Final LGBM Regressor model mean: 4886.649369598528\n",
      "CPU times: user 3.53 s, sys: 132 ms, total: 3.66 s\n",
      "Wall time: 3.68 s\n"
     ]
    }
   ],
   "source": [
    "%%time\n",
    "model = LGBMRegressor()\n",
    "model.fit(features_1,target_1)\n",
    "predicted_test = model.predict(features_test)\n",
    "rmse = mean_squared_error(target_test, predicted_test)**0.5\n",
    "print(\"Final LGBM Regressor model rmse:\", rmse)\n",
    "print(\"Final LGBM Regressor model mean:\", pd.Series(predicted_test).mean())"
   ]
  },
  {
   "cell_type": "markdown",
   "metadata": {},
   "source": [
    "### Best Model\n",
    "As usual, we want to minimize our evaluation parameter. In this case, RMSE had the lowest average score (after cross-validation) for the RandomForestRegressor model, but was very slow when calculating the model. In contrast, LGBMRegressor model was fast on calculating and fitting the model and have also good results, with an RMSE value under 1900.\n",
    "\n",
    "The final score is near to the train score but higher, showing us that the validation step was a bit overfitted.\n",
    "Including time as an important parameter, LGBMRegressor is the best model for this task."
   ]
  },
  {
   "cell_type": "markdown",
   "metadata": {},
   "source": [
    "### Project Evaluation\n",
    "On this project we deal with nan values, impossible values, non important colums, types of columns not fittable for the model and other problems.\n",
    "When looking for a model, two types of training we tried, tunning for hyperparameters. The first is running the model normaly, and the second is cross-validation, used only for models who run fast.\n",
    "Both LGBMRegressor and DecisionTreeRegressor, where the models who run slow, but much faster than the other two, CatBoostRegressor and RandomForestRegressor. LogisticRegression model did not even finished.\n",
    "We found that almost all tthe models braught us to the same mean of Price, \\$4420, near to the real mean of price. But, since the Price values are differ from each other, with a lon right-tale, making it that the median is much lower to the mean value, the models had difficult to predict the correct target value, thus the RMSE was very high."
   ]
  },
  {
   "cell_type": "markdown",
   "metadata": {},
   "source": [
    "## Draft"
   ]
  },
  {
   "cell_type": "code",
   "execution_count": null,
   "metadata": {},
   "outputs": [],
   "source": [
    "# model = LogisticRegression(random_state=12345, max_iter=20)\n",
    "# model.fit(features_train,target_train)\n",
    "# predicted_valid = model.predict(features_valid)\n",
    "# rmse = mean_squared_error(target_valid, predicted_valid)**0.5\n",
    "# print(\"rmse:\", rmse)\n",
    "# print(\"mean:\", pd.Series(predicted_valid).mean())"
   ]
  },
  {
   "cell_type": "code",
   "execution_count": 78,
   "metadata": {
    "collapsed": true
   },
   "outputs": [],
   "source": [
    "# def cross_val_score_linear_regression (features, target):\n",
    "#     scores = []\n",
    "#     sample_size = int(len(features)/3)\n",
    "#     for i in range(0, len(features), sample_size):\n",
    "#         valid_indexes = features.iloc[i:i+sample_size].index\n",
    "#         train_indexes = features[~(features.index.isin(valid_indexes))].index\n",
    "\n",
    "#         features_train = features.iloc[train_indexes]\n",
    "#         features_valid = features.iloc[valid_indexes]\n",
    "#         target_train = target.iloc[train_indexes]\n",
    "#         target_valid = target.iloc[valid_indexes].reset_index()\n",
    "        \n",
    "#         model = LinearRegression()\n",
    "#         model = model.fit(features_train, target_train)\n",
    "#         predicted_valid = model.predict(features_valid)\n",
    "#         rmse = mean_squared_error(target_valid, predicted_valid)**0.5\n",
    "#         scores.append(rmse)\n",
    "#     return scores"
   ]
  },
  {
   "cell_type": "code",
   "execution_count": 89,
   "metadata": {
    "collapsed": true
   },
   "outputs": [
    {
     "name": "stdout",
     "output_type": "stream",
     "text": [
      "Iterations = 10 : RandomForestRegressor Average model RMSE score: 3860.412048617005\n",
      "mean: 4877.318143825994\n",
      "----------------------------------------------\n",
      "Iterations = 20 : RandomForestRegressor Average model RMSE score: 3342.9592246716466\n",
      "mean: 4873.479902991756\n",
      "----------------------------------------------\n",
      "Iterations = 30 : RandomForestRegressor Average model RMSE score: 2990.2914818892395\n",
      "mean: 4871.3416647780705\n",
      "----------------------------------------------\n",
      "Iterations = 40 : RandomForestRegressor Average model RMSE score: 2752.97661236894\n",
      "mean: 4869.486613321317\n",
      "----------------------------------------------\n",
      "Iterations = 50 : RandomForestRegressor Average model RMSE score: 2587.9035718583473\n",
      "mean: 4868.634127339074\n",
      "----------------------------------------------\n",
      "Iterations = 60 : RandomForestRegressor Average model RMSE score: 2474.1543873432333\n",
      "mean: 4867.876574074577\n",
      "----------------------------------------------\n",
      "Iterations = 70 : RandomForestRegressor Average model RMSE score: 2390.8026551052694\n",
      "mean: 4866.708628516614\n",
      "----------------------------------------------\n",
      "Iterations = 80 : RandomForestRegressor Average model RMSE score: 2323.213800169047\n",
      "mean: 4865.985525034649\n",
      "----------------------------------------------\n"
     ]
    }
   ],
   "source": [
    "# %%time\n",
    "# for itera in range(10,81,10):\n",
    "#     model = CatBoostRegressor(loss_function=\"RMSE\", iterations=itera)\n",
    "#     model.fit(features_train, target_train, verbose=False)\n",
    "#     predicted_valid = model.predict(features_valid)\n",
    "#     rmse = mean_squared_error(target_valid, predicted_valid)**0.5\n",
    "#     print(\"Iterations =\", itera, \": \", end='')\n",
    "#     print('RandomForestRegressor Average model RMSE score:', rmse)\n",
    "#     print(\"mean:\", pd.Series(predicted_valid).mean())\n",
    "#     print('----------------------------------------------')"
   ]
  },
  {
   "cell_type": "code",
   "execution_count": 82,
   "metadata": {
    "collapsed": true
   },
   "outputs": [
    {
     "ename": "TypeError",
     "evalue": "float() argument must be a string or a number, not 'Timestamp'",
     "output_type": "error",
     "traceback": [
      "\u001b[0;31m---------------------------------------------------------------------------\u001b[0m",
      "\u001b[0;31mTypeError\u001b[0m                                 Traceback (most recent call last)",
      "\u001b[0;32m<ipython-input-82-a52b5e00a9f3>\u001b[0m in \u001b[0;36m<module>\u001b[0;34m\u001b[0m\n\u001b[0;32m----> 1\u001b[0;31m \u001b[0mscores\u001b[0m \u001b[0;34m=\u001b[0m \u001b[0mcross_val_score_linear_regression\u001b[0m \u001b[0;34m(\u001b[0m\u001b[0mfeatures_1\u001b[0m\u001b[0;34m,\u001b[0m \u001b[0mtarget\u001b[0m\u001b[0;34m)\u001b[0m\u001b[0;34m\u001b[0m\u001b[0;34m\u001b[0m\u001b[0m\n\u001b[0m\u001b[1;32m      2\u001b[0m \u001b[0mfinal_score\u001b[0m \u001b[0;34m=\u001b[0m \u001b[0mpd\u001b[0m\u001b[0;34m.\u001b[0m\u001b[0mSeries\u001b[0m\u001b[0;34m(\u001b[0m\u001b[0mscores\u001b[0m\u001b[0;34m)\u001b[0m\u001b[0;34m.\u001b[0m\u001b[0mmean\u001b[0m\u001b[0;34m(\u001b[0m\u001b[0;34m)\u001b[0m\u001b[0;34m\u001b[0m\u001b[0;34m\u001b[0m\u001b[0m\n\u001b[1;32m      3\u001b[0m \u001b[0mprint\u001b[0m\u001b[0;34m(\u001b[0m\u001b[0;34m'LinearRegression Average model RMSE score:'\u001b[0m\u001b[0;34m,\u001b[0m \u001b[0mfinal_score\u001b[0m\u001b[0;34m)\u001b[0m\u001b[0;34m\u001b[0m\u001b[0;34m\u001b[0m\u001b[0m\n",
      "\u001b[0;32m<ipython-input-78-02fba2599296>\u001b[0m in \u001b[0;36mcross_val_score_linear_regression\u001b[0;34m(features, target)\u001b[0m\n\u001b[1;32m     12\u001b[0m \u001b[0;34m\u001b[0m\u001b[0m\n\u001b[1;32m     13\u001b[0m         \u001b[0mmodel\u001b[0m \u001b[0;34m=\u001b[0m \u001b[0mLinearRegression\u001b[0m\u001b[0;34m(\u001b[0m\u001b[0;34m)\u001b[0m\u001b[0;34m\u001b[0m\u001b[0;34m\u001b[0m\u001b[0m\n\u001b[0;32m---> 14\u001b[0;31m         \u001b[0mmodel\u001b[0m \u001b[0;34m=\u001b[0m \u001b[0mmodel\u001b[0m\u001b[0;34m.\u001b[0m\u001b[0mfit\u001b[0m\u001b[0;34m(\u001b[0m\u001b[0mfeatures_train\u001b[0m\u001b[0;34m,\u001b[0m \u001b[0mtarget_train\u001b[0m\u001b[0;34m)\u001b[0m\u001b[0;34m\u001b[0m\u001b[0;34m\u001b[0m\u001b[0m\n\u001b[0m\u001b[1;32m     15\u001b[0m         \u001b[0mpredicted_valid\u001b[0m \u001b[0;34m=\u001b[0m \u001b[0mmodel\u001b[0m\u001b[0;34m.\u001b[0m\u001b[0mpredict\u001b[0m\u001b[0;34m(\u001b[0m\u001b[0mfeatures_valid\u001b[0m\u001b[0;34m)\u001b[0m\u001b[0;34m\u001b[0m\u001b[0;34m\u001b[0m\u001b[0m\n\u001b[1;32m     16\u001b[0m         \u001b[0mrmse\u001b[0m \u001b[0;34m=\u001b[0m \u001b[0mmean_squared_error\u001b[0m\u001b[0;34m(\u001b[0m\u001b[0mtarget_valid\u001b[0m\u001b[0;34m,\u001b[0m \u001b[0mpredicted_valid\u001b[0m\u001b[0;34m)\u001b[0m\u001b[0;34m**\u001b[0m\u001b[0;36m0.5\u001b[0m\u001b[0;34m\u001b[0m\u001b[0;34m\u001b[0m\u001b[0m\n",
      "\u001b[0;32m/opt/conda/lib/python3.7/site-packages/sklearn/linear_model/base.py\u001b[0m in \u001b[0;36mfit\u001b[0;34m(self, X, y, sample_weight)\u001b[0m\n\u001b[1;32m    461\u001b[0m         \u001b[0mn_jobs_\u001b[0m \u001b[0;34m=\u001b[0m \u001b[0mself\u001b[0m\u001b[0;34m.\u001b[0m\u001b[0mn_jobs\u001b[0m\u001b[0;34m\u001b[0m\u001b[0;34m\u001b[0m\u001b[0m\n\u001b[1;32m    462\u001b[0m         X, y = check_X_y(X, y, accept_sparse=['csr', 'csc', 'coo'],\n\u001b[0;32m--> 463\u001b[0;31m                          y_numeric=True, multi_output=True)\n\u001b[0m\u001b[1;32m    464\u001b[0m \u001b[0;34m\u001b[0m\u001b[0m\n\u001b[1;32m    465\u001b[0m         \u001b[0;32mif\u001b[0m \u001b[0msample_weight\u001b[0m \u001b[0;32mis\u001b[0m \u001b[0;32mnot\u001b[0m \u001b[0;32mNone\u001b[0m \u001b[0;32mand\u001b[0m \u001b[0mnp\u001b[0m\u001b[0;34m.\u001b[0m\u001b[0matleast_1d\u001b[0m\u001b[0;34m(\u001b[0m\u001b[0msample_weight\u001b[0m\u001b[0;34m)\u001b[0m\u001b[0;34m.\u001b[0m\u001b[0mndim\u001b[0m \u001b[0;34m>\u001b[0m \u001b[0;36m1\u001b[0m\u001b[0;34m:\u001b[0m\u001b[0;34m\u001b[0m\u001b[0;34m\u001b[0m\u001b[0m\n",
      "\u001b[0;32m/opt/conda/lib/python3.7/site-packages/sklearn/utils/validation.py\u001b[0m in \u001b[0;36mcheck_X_y\u001b[0;34m(X, y, accept_sparse, accept_large_sparse, dtype, order, copy, force_all_finite, ensure_2d, allow_nd, multi_output, ensure_min_samples, ensure_min_features, y_numeric, warn_on_dtype, estimator)\u001b[0m\n\u001b[1;32m    717\u001b[0m                     \u001b[0mensure_min_features\u001b[0m\u001b[0;34m=\u001b[0m\u001b[0mensure_min_features\u001b[0m\u001b[0;34m,\u001b[0m\u001b[0;34m\u001b[0m\u001b[0;34m\u001b[0m\u001b[0m\n\u001b[1;32m    718\u001b[0m                     \u001b[0mwarn_on_dtype\u001b[0m\u001b[0;34m=\u001b[0m\u001b[0mwarn_on_dtype\u001b[0m\u001b[0;34m,\u001b[0m\u001b[0;34m\u001b[0m\u001b[0;34m\u001b[0m\u001b[0m\n\u001b[0;32m--> 719\u001b[0;31m                     estimator=estimator)\n\u001b[0m\u001b[1;32m    720\u001b[0m     \u001b[0;32mif\u001b[0m \u001b[0mmulti_output\u001b[0m\u001b[0;34m:\u001b[0m\u001b[0;34m\u001b[0m\u001b[0;34m\u001b[0m\u001b[0m\n\u001b[1;32m    721\u001b[0m         y = check_array(y, 'csr', force_all_finite=True, ensure_2d=False,\n",
      "\u001b[0;32m/opt/conda/lib/python3.7/site-packages/sklearn/utils/validation.py\u001b[0m in \u001b[0;36mcheck_array\u001b[0;34m(array, accept_sparse, accept_large_sparse, dtype, order, copy, force_all_finite, ensure_2d, allow_nd, ensure_min_samples, ensure_min_features, warn_on_dtype, estimator)\u001b[0m\n\u001b[1;32m    534\u001b[0m         \u001b[0;31m# make sure we actually converted to numeric:\u001b[0m\u001b[0;34m\u001b[0m\u001b[0;34m\u001b[0m\u001b[0;34m\u001b[0m\u001b[0m\n\u001b[1;32m    535\u001b[0m         \u001b[0;32mif\u001b[0m \u001b[0mdtype_numeric\u001b[0m \u001b[0;32mand\u001b[0m \u001b[0marray\u001b[0m\u001b[0;34m.\u001b[0m\u001b[0mdtype\u001b[0m\u001b[0;34m.\u001b[0m\u001b[0mkind\u001b[0m \u001b[0;34m==\u001b[0m \u001b[0;34m\"O\"\u001b[0m\u001b[0;34m:\u001b[0m\u001b[0;34m\u001b[0m\u001b[0;34m\u001b[0m\u001b[0m\n\u001b[0;32m--> 536\u001b[0;31m             \u001b[0marray\u001b[0m \u001b[0;34m=\u001b[0m \u001b[0marray\u001b[0m\u001b[0;34m.\u001b[0m\u001b[0mastype\u001b[0m\u001b[0;34m(\u001b[0m\u001b[0mnp\u001b[0m\u001b[0;34m.\u001b[0m\u001b[0mfloat64\u001b[0m\u001b[0;34m)\u001b[0m\u001b[0;34m\u001b[0m\u001b[0;34m\u001b[0m\u001b[0m\n\u001b[0m\u001b[1;32m    537\u001b[0m         \u001b[0;32mif\u001b[0m \u001b[0;32mnot\u001b[0m \u001b[0mallow_nd\u001b[0m \u001b[0;32mand\u001b[0m \u001b[0marray\u001b[0m\u001b[0;34m.\u001b[0m\u001b[0mndim\u001b[0m \u001b[0;34m>=\u001b[0m \u001b[0;36m3\u001b[0m\u001b[0;34m:\u001b[0m\u001b[0;34m\u001b[0m\u001b[0;34m\u001b[0m\u001b[0m\n\u001b[1;32m    538\u001b[0m             raise ValueError(\"Found array with dim %d. %s expected <= 2.\"\n",
      "\u001b[0;31mTypeError\u001b[0m: float() argument must be a string or a number, not 'Timestamp'"
     ]
    }
   ],
   "source": [
    "# scores = cross_val_score_linear_regression (features_1, target)\n",
    "# final_score = pd.Series(scores).mean()  \n",
    "# print('LinearRegression Average model RMSE score:', final_score)"
   ]
  },
  {
   "cell_type": "code",
   "execution_count": null,
   "metadata": {},
   "outputs": [],
   "source": [
    "# def get_precent_of_na_df(df,num):\n",
    "#     df_nulls = pd.DataFrame(df.isna().sum(),columns=['Missing Values'])\n",
    "#     df_nulls['Percent of Nulls %'] = round(df_nulls['Missing Values'] / df.shape[0],num) *100\n",
    "#     df_nulls = df_nulls.sort_values(\"Percent of Nulls %\",ascending=False)\n",
    "#     return df_nulls\n",
    "\n",
    "# def Explore(df):\n",
    "#     df = df\n",
    "#     print(df.head())\n",
    "#     print(\"Number of duplicated rows\",df.duplicated().sum())\n",
    "#     print(\"Data shape\",df.shape)\n",
    "#     print('Columns with nulls:')\n",
    "#     display(get_precent_of_na_df(df,4))\n",
    "#     display(df.info())\n",
    "#     display(df.describe())\n",
    "#     print(\"Number of duplicated rows\")\n",
    "#     display(df.duplicated().sum())\n",
    "#     temp_raw_data=df.copy()\n",
    "#     fig = plt.figure(figsize = (7,10))\n",
    "#     ax = fig.gca()\n",
    "#     temp_raw_data.hist(ax = ax)\n",
    "#     fig = ax.get_figure()"
   ]
  },
  {
   "cell_type": "code",
   "execution_count": 93,
   "metadata": {},
   "outputs": [],
   "source": [
    "# def RandomForestRegressor_func (features1, target1, estimators):\n",
    "#     model = RandomForestRegressor(n_estimators=estimators, random_state=12345)\n",
    "#     model.fit(features_train,target_train)\n",
    "#     predicted_valid = model.predict(features_valid)\n",
    "#     rmse = mean_squared_error(target_valid, predicted_valid)**0.5\n",
    "#     mean = pd.Series(predicted_valid).mean()\n",
    "#     return rmse, mean      "
   ]
  },
  {
   "cell_type": "code",
   "execution_count": 86,
   "metadata": {
    "collapsed": true
   },
   "outputs": [
    {
     "name": "stdout",
     "output_type": "stream",
     "text": [
      "Estimators = 10 : RandomForestRegressor Average model RMSE score: 1885.6187378145685\n",
      "mean: 4870.806909582806\n",
      "----------------------------------------------\n",
      "Estimators = 20 : RandomForestRegressor Average model RMSE score: 1852.8563716138628\n",
      "mean: 4868.455464326933\n",
      "----------------------------------------------\n",
      "Estimators = 30 : RandomForestRegressor Average model RMSE score: 1841.5439367545982\n",
      "mean: 4868.9486200117235\n",
      "----------------------------------------------\n",
      "Estimators = 40 : RandomForestRegressor Average model RMSE score: 1835.2940521274415\n",
      "mean: 4869.369286682485\n",
      "----------------------------------------------\n",
      "Estimators = 50 : RandomForestRegressor Average model RMSE score: 1830.7695855568984\n",
      "mean: 4869.877799649988\n",
      "----------------------------------------------\n",
      "Estimators = 60 : RandomForestRegressor Average model RMSE score: 1828.2605875725803\n",
      "mean: 4869.574040639633\n",
      "----------------------------------------------\n",
      "Estimators = 70 : RandomForestRegressor Average model RMSE score: 1826.0815479743271\n",
      "mean: 4869.4378800507475\n",
      "----------------------------------------------\n",
      "Estimators = 80 : RandomForestRegressor Average model RMSE score: 1823.6448694386183\n",
      "mean: 4869.37766211773\n",
      "----------------------------------------------\n"
     ]
    }
   ],
   "source": [
    "# %%time\n",
    "# for estimators in range(10,81,10):\n",
    "#     rmse, mean = RandomForestRegressor_func (features_1, target_1, estimators)\n",
    "#     print(\"Estimators =\", estimators, \": \", end='')\n",
    "#     print('RandomForestRegressor Average model RMSE score:', rmse)\n",
    "#     print(\"mean:\", mean)\n",
    "#     print('----------------------------------------------')"
   ]
  }
 ],
 "metadata": {
  "kernelspec": {
   "display_name": "Python 3",
   "language": "python",
   "name": "python3"
  },
  "language_info": {
   "codemirror_mode": {
    "name": "ipython",
    "version": 3
   },
   "file_extension": ".py",
   "mimetype": "text/x-python",
   "name": "python",
   "nbconvert_exporter": "python",
   "pygments_lexer": "ipython3",
   "version": "3.7.6"
  }
 },
 "nbformat": 4,
 "nbformat_minor": 2
}
